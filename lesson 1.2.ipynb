{
  "nbformat": 4,
  "nbformat_minor": 0,
  "metadata": {
    "colab": {
      "provenance": []
    },
    "kernelspec": {
      "name": "python3",
      "display_name": "Python 3"
    },
    "language_info": {
      "name": "python"
    }
  },
  "cells": [
    {
      "cell_type": "code",
      "source": [
        "import numpy as np\n",
        "import pandas as pd\n",
        "import torch"
      ],
      "metadata": {
        "id": "smvFbZzUtD3L"
      },
      "execution_count": 4,
      "outputs": []
    },
    {
      "cell_type": "code",
      "execution_count": 5,
      "metadata": {
        "id": "v2ddKnLkq2oA"
      },
      "outputs": [],
      "source": [
        "some_tensor=torch.rand([3,4])"
      ]
    },
    {
      "cell_type": "code",
      "source": [
        "some_tensor.shape()"
      ],
      "metadata": {
        "colab": {
          "base_uri": "https://localhost:8080/"
        },
        "id": "mbMx_f0GtCsN",
        "outputId": "599cae2a-396a-4c23-ad05-ef9bdec428fd"
      },
      "execution_count": 6,
      "outputs": [
        {
          "output_type": "execute_result",
          "data": {
            "text/plain": [
              "torch.Size([3, 4])"
            ]
          },
          "metadata": {},
          "execution_count": 6
        }
      ]
    },
    {
      "cell_type": "code",
      "source": [
        "some_tensor.size()"
      ],
      "metadata": {
        "colab": {
          "base_uri": "https://localhost:8080/"
        },
        "id": "8UiHUwwgtpm-",
        "outputId": "b7994e54-3543-4090-b1e9-6fe4979b8956"
      },
      "execution_count": 7,
      "outputs": [
        {
          "output_type": "execute_result",
          "data": {
            "text/plain": [
              "torch.Size([3, 4])"
            ]
          },
          "metadata": {},
          "execution_count": 7
        }
      ]
    },
    {
      "cell_type": "markdown",
      "source": [
        "Both shape and size can be used in a very similar way"
      ],
      "metadata": {
        "id": "isULakRCtzYh"
      }
    },
    {
      "cell_type": "markdown",
      "source": [
        "**ADDITION**"
      ],
      "metadata": {
        "id": "hkKFe8RLxW7u"
      }
    },
    {
      "cell_type": "code",
      "source": [
        "# tensor operations"
      ],
      "metadata": {
        "id": "Xd1O-5mvt-BZ"
      },
      "execution_count": 8,
      "outputs": []
    },
    {
      "cell_type": "code",
      "source": [
        "tensor=torch.rand([2,2])"
      ],
      "metadata": {
        "id": "JHRjQk9PxPPr"
      },
      "execution_count": 9,
      "outputs": []
    },
    {
      "cell_type": "markdown",
      "source": [],
      "metadata": {
        "id": "FEoA-bvNxVHw"
      }
    },
    {
      "cell_type": "code",
      "source": [
        "add_tensor=tensor+10"
      ],
      "metadata": {
        "colab": {
          "base_uri": "https://localhost:8080/"
        },
        "id": "haWhJzWUxSp2",
        "outputId": "924d4a2a-c68f-446f-f72e-de9ee67811ad"
      },
      "execution_count": 10,
      "outputs": [
        {
          "output_type": "execute_result",
          "data": {
            "text/plain": [
              "tensor([[10.4025, 10.6232],\n",
              "        [10.8918, 10.1458]])"
            ]
          },
          "metadata": {},
          "execution_count": 10
        }
      ]
    },
    {
      "cell_type": "markdown",
      "source": [
        "**SUBTRACTION**"
      ],
      "metadata": {
        "id": "5ZyDxkIfxm9L"
      }
    },
    {
      "cell_type": "code",
      "source": [
        "tensor_sub=tensor-10"
      ],
      "metadata": {
        "id": "-j0zr7Z0xeZ_"
      },
      "execution_count": 11,
      "outputs": []
    },
    {
      "cell_type": "code",
      "source": [
        "tensor_sub"
      ],
      "metadata": {
        "colab": {
          "base_uri": "https://localhost:8080/"
        },
        "id": "zrEt3iI7xy7m",
        "outputId": "0c76dba8-4fb1-4dc2-d6c1-53cabe2cfd20"
      },
      "execution_count": 12,
      "outputs": [
        {
          "output_type": "execute_result",
          "data": {
            "text/plain": [
              "tensor([[-9.5975, -9.3768],\n",
              "        [-9.1082, -9.8542]])"
            ]
          },
          "metadata": {},
          "execution_count": 12
        }
      ]
    },
    {
      "cell_type": "markdown",
      "source": [
        "**MULTIPLICATION**"
      ],
      "metadata": {
        "id": "L3TpMifnx6hm"
      }
    },
    {
      "cell_type": "code",
      "source": [
        "tensor_mult=tensor*5"
      ],
      "metadata": {
        "id": "8caz_7Qzx2-2"
      },
      "execution_count": 13,
      "outputs": []
    },
    {
      "cell_type": "code",
      "source": [
        "tensor_mult"
      ],
      "metadata": {
        "colab": {
          "base_uri": "https://localhost:8080/"
        },
        "id": "gaC8J1kqyMGe",
        "outputId": "77c470d8-7ac9-4a09-ad17-31638f793024"
      },
      "execution_count": 14,
      "outputs": [
        {
          "output_type": "execute_result",
          "data": {
            "text/plain": [
              "tensor([[2.0126, 3.1158],\n",
              "        [4.4590, 0.7289]])"
            ]
          },
          "metadata": {},
          "execution_count": 14
        }
      ]
    },
    {
      "cell_type": "markdown",
      "source": [
        "**LETS TRY INBUILT FUNCTIONS**"
      ],
      "metadata": {
        "id": "D5RYmnxEyPoj"
      }
    },
    {
      "cell_type": "markdown",
      "source": [
        "** ELEMENTWISE MULTIPLICATION**"
      ],
      "metadata": {
        "id": "na3dOz6BzviP"
      }
    },
    {
      "cell_type": "code",
      "source": [
        "tensor_1=torch.tensor([3,4])\n",
        "tensor_2=torch.tensor([3,5])\n",
        "tensor_1.mul(tensor_2)"
      ],
      "metadata": {
        "colab": {
          "base_uri": "https://localhost:8080/"
        },
        "id": "o1O4Ti-RyODK",
        "outputId": "689d8cb7-f42c-417a-edc6-3cba4a24bf0a"
      },
      "execution_count": 16,
      "outputs": [
        {
          "output_type": "execute_result",
          "data": {
            "text/plain": [
              "tensor([ 9, 20])"
            ]
          },
          "metadata": {},
          "execution_count": 16
        }
      ]
    },
    {
      "cell_type": "code",
      "source": [
        "torch.mul(tensor_1,tensor_2)"
      ],
      "metadata": {
        "colab": {
          "base_uri": "https://localhost:8080/"
        },
        "id": "9PTtnhWxzc7B",
        "outputId": "c2258189-4593-447e-b9be-70d2f6bb3f18"
      },
      "execution_count": 18,
      "outputs": [
        {
          "output_type": "execute_result",
          "data": {
            "text/plain": [
              "tensor([ 9, 20])"
            ]
          },
          "metadata": {},
          "execution_count": 18
        }
      ]
    },
    {
      "cell_type": "code",
      "source": [
        "# alternatively"
      ],
      "metadata": {
        "id": "udD7jUYNyyQC"
      },
      "execution_count": null,
      "outputs": []
    },
    {
      "cell_type": "markdown",
      "source": [],
      "metadata": {
        "id": "L2pU9aTHz4DW"
      }
    },
    {
      "cell_type": "code",
      "source": [
        "tensor_1*tensor_2"
      ],
      "metadata": {
        "colab": {
          "base_uri": "https://localhost:8080/"
        },
        "id": "w3OemSzGzK28",
        "outputId": "adbcb58d-864e-4a70-b39a-904c80ae2559"
      },
      "execution_count": 17,
      "outputs": [
        {
          "output_type": "execute_result",
          "data": {
            "text/plain": [
              "tensor([ 9, 20])"
            ]
          },
          "metadata": {},
          "execution_count": 17
        }
      ]
    },
    {
      "cell_type": "markdown",
      "source": [
        "Two main ways of performing multiplication in neural networks and deeplearning\n",
        "* ELEMENTWISE MULTIPLICATION\n",
        "* MATRIX MULTIPLICATON"
      ],
      "metadata": {
        "id": "NF7xbl1P0N1S"
      }
    },
    {
      "cell_type": "markdown",
      "source": [
        "**MATRIX MALTIPLICATION**"
      ],
      "metadata": {
        "id": "YqkR1Mqxz45m"
      }
    },
    {
      "cell_type": "markdown",
      "source": [
        "MATRIX MULTILICATION _THIS IS A MULTIPLYING A MATRIX BY ANOTHER MATRIX we need to do the the dot of rows and columns"
      ],
      "metadata": {
        "id": "obXI2ILG1nve"
      }
    },
    {
      "cell_type": "code",
      "source": [
        "tensor1=torch.rand([2,3])\n",
        "tensor2=torch.rand([3,2])\n",
        "torch.mm(tensor1,tensor2)"
      ],
      "metadata": {
        "colab": {
          "base_uri": "https://localhost:8080/"
        },
        "id": "-HLYanol2G-K",
        "outputId": "0cd73c65-59e6-45e2-dcf5-9250581a8463"
      },
      "execution_count": 22,
      "outputs": [
        {
          "output_type": "execute_result",
          "data": {
            "text/plain": [
              "tensor([[0.3741, 1.1734],\n",
              "        [0.4289, 1.5227]])"
            ]
          },
          "metadata": {},
          "execution_count": 22
        }
      ]
    },
    {
      "cell_type": "code",
      "source": [
        "final=torch.matmul(tensor1,tensor2)"
      ],
      "metadata": {
        "id": "H5UaPbE02wVz"
      },
      "execution_count": 23,
      "outputs": []
    },
    {
      "cell_type": "code",
      "source": [
        "final"
      ],
      "metadata": {
        "colab": {
          "base_uri": "https://localhost:8080/"
        },
        "id": "--je7FvP2_QB",
        "outputId": "81a89f62-22d5-4746-9031-54dfe98c9390"
      },
      "execution_count": 24,
      "outputs": [
        {
          "output_type": "execute_result",
          "data": {
            "text/plain": [
              "tensor([[0.3741, 1.1734],\n",
              "        [0.4289, 1.5227]])"
            ]
          },
          "metadata": {},
          "execution_count": 24
        }
      ]
    },
    {
      "cell_type": "markdown",
      "source": [
        "ALTERNATIVELY"
      ],
      "metadata": {
        "id": "NFHqowSq3LYD"
      }
    },
    {
      "cell_type": "code",
      "source": [
        "tensor1@tensor2"
      ],
      "metadata": {
        "colab": {
          "base_uri": "https://localhost:8080/"
        },
        "id": "NnJ5oMKx3N90",
        "outputId": "9bdf27a7-b724-43b2-c25a-ced7d318d1b3"
      },
      "execution_count": 25,
      "outputs": [
        {
          "output_type": "execute_result",
          "data": {
            "text/plain": [
              "tensor([[0.3741, 1.1734],\n",
              "        [0.4289, 1.5227]])"
            ]
          },
          "metadata": {},
          "execution_count": 25
        }
      ]
    },
    {
      "cell_type": "code",
      "source": [
        "%%time\n",
        "value=0\n",
        "for i in range(len(tensor1)):\n",
        "  value += tensor1[i]*tensor1[i]\n",
        "print(value)"
      ],
      "metadata": {
        "colab": {
          "base_uri": "https://localhost:8080/"
        },
        "id": "EJjgH4BG3TAI",
        "outputId": "5a373cec-e30e-4d1c-8cd6-9378356b12a2"
      },
      "execution_count": 27,
      "outputs": [
        {
          "output_type": "stream",
          "name": "stdout",
          "text": [
            "tensor([1.6727, 0.1490, 1.6379])\n",
            "CPU times: user 6.05 ms, sys: 0 ns, total: 6.05 ms\n",
            "Wall time: 6.39 ms\n"
          ]
        }
      ]
    },
    {
      "cell_type": "code",
      "source": [
        "%%time\n",
        "torch.matmul(tensor1,tensor2)"
      ],
      "metadata": {
        "colab": {
          "base_uri": "https://localhost:8080/"
        },
        "id": "4Ir-AvWv_IM_",
        "outputId": "33d5d008-711d-4e17-ece6-05bee3ebf80d"
      },
      "execution_count": 29,
      "outputs": [
        {
          "output_type": "stream",
          "name": "stdout",
          "text": [
            "CPU times: user 1.41 ms, sys: 36 µs, total: 1.45 ms\n",
            "Wall time: 1.27 ms\n"
          ]
        },
        {
          "output_type": "execute_result",
          "data": {
            "text/plain": [
              "tensor([[0.3741, 1.1734],\n",
              "        [0.4289, 1.5227]])"
            ]
          },
          "metadata": {},
          "execution_count": 29
        }
      ]
    },
    {
      "cell_type": "markdown",
      "source": [
        "The above showas that when we operates using torch, the operation takes short time than the other operations___for loop is slower"
      ],
      "metadata": {
        "id": "M0qB3Das_xcv"
      }
    },
    {
      "cell_type": "markdown",
      "source": [
        "rules that must be attained   for the multiplication to occur\n",
        "**1_The inner dimensions must match**\n",
        "\"3x2\" @\"3x2\" this wont work\n",
        "\"2x3\" @ \"3x2\" this one works since inner dimensions is the same"
      ],
      "metadata": {
        "id": "y4Yev9m_DSFM"
      }
    },
    {
      "cell_type": "code",
      "source": [
        "tens1=torch.rand(3,2)"
      ],
      "metadata": {
        "id": "VB9LcFbVEJCk"
      },
      "execution_count": 31,
      "outputs": []
    },
    {
      "cell_type": "code",
      "source": [
        "tens2=torch.rand(3,2)\n",
        "tens1@tens2 # this  dont works because inner dimensions are the same"
      ],
      "metadata": {
        "colab": {
          "base_uri": "https://localhost:8080/",
          "height": 159
        },
        "id": "YJdt_7peEgs7",
        "outputId": "680e8ab5-2e76-4e35-f670-8098cd844f44"
      },
      "execution_count": 32,
      "outputs": [
        {
          "output_type": "error",
          "ename": "RuntimeError",
          "evalue": "mat1 and mat2 shapes cannot be multiplied (3x2 and 3x2)",
          "traceback": [
            "\u001b[0;31m---------------------------------------------------------------------------\u001b[0m",
            "\u001b[0;31mRuntimeError\u001b[0m                              Traceback (most recent call last)",
            "\u001b[0;32m<ipython-input-32-87262593be6a>\u001b[0m in \u001b[0;36m<cell line: 0>\u001b[0;34m()\u001b[0m\n\u001b[1;32m      1\u001b[0m \u001b[0mtens2\u001b[0m\u001b[0;34m=\u001b[0m\u001b[0mtorch\u001b[0m\u001b[0;34m.\u001b[0m\u001b[0mrand\u001b[0m\u001b[0;34m(\u001b[0m\u001b[0;36m3\u001b[0m\u001b[0;34m,\u001b[0m\u001b[0;36m2\u001b[0m\u001b[0;34m)\u001b[0m\u001b[0;34m\u001b[0m\u001b[0;34m\u001b[0m\u001b[0m\n\u001b[0;32m----> 2\u001b[0;31m \u001b[0mtens1\u001b[0m\u001b[0;34m@\u001b[0m\u001b[0mtens2\u001b[0m \u001b[0;31m# this works because inner dimensions are the same\u001b[0m\u001b[0;34m\u001b[0m\u001b[0;34m\u001b[0m\u001b[0m\n\u001b[0m",
            "\u001b[0;31mRuntimeError\u001b[0m: mat1 and mat2 shapes cannot be multiplied (3x2 and 3x2)"
          ]
        }
      ]
    },
    {
      "cell_type": "code",
      "source": [
        "tens3=torch.rand(3,2)\n",
        "tens4=torch.rand(2,3)\n",
        "tens3@tens4 # this now works because the inner dimensions are the same"
      ],
      "metadata": {
        "colab": {
          "base_uri": "https://localhost:8080/"
        },
        "id": "WBA_pvAxE4Jq",
        "outputId": "8adbac95-6ca9-4f70-efe1-57e478c6d061"
      },
      "execution_count": 33,
      "outputs": [
        {
          "output_type": "execute_result",
          "data": {
            "text/plain": [
              "tensor([[0.5495, 0.4961, 0.8732],\n",
              "        [0.1658, 0.1495, 0.2630],\n",
              "        [0.3565, 0.3143, 0.5481]])"
            ]
          },
          "metadata": {},
          "execution_count": 33
        }
      ]
    },
    {
      "cell_type": "markdown",
      "source": [
        "**RULE2 The resulting matrix has the shape of the outer dimensions** eg \"(2x3) @(3x2) the resulting matrix must have shape (2x2)"
      ],
      "metadata": {
        "id": "e0C4jSZhFNfs"
      }
    },
    {
      "cell_type": "code",
      "source": [
        "tensor3=torch.rand([2,3])\n",
        "tensor4=torch.rand([3,2])\n",
        "x=torch.mm(tensor3,tensor4) # shape must be (2x2)"
      ],
      "metadata": {
        "id": "rrTCN9DgGJ7T"
      },
      "execution_count": 34,
      "outputs": []
    },
    {
      "cell_type": "code",
      "source": [
        "x"
      ],
      "metadata": {
        "colab": {
          "base_uri": "https://localhost:8080/"
        },
        "id": "YJLBWRuJGhEO",
        "outputId": "8690e743-b6e9-4bf8-affe-5f550bbc4f42"
      },
      "execution_count": 35,
      "outputs": [
        {
          "output_type": "execute_result",
          "data": {
            "text/plain": [
              "tensor([[0.1795, 0.0858],\n",
              "        [1.2808, 0.9120]])"
            ]
          },
          "metadata": {},
          "execution_count": 35
        }
      ]
    },
    {
      "cell_type": "code",
      "source": [
        "x.shape"
      ],
      "metadata": {
        "colab": {
          "base_uri": "https://localhost:8080/"
        },
        "id": "LMiLyLbrGjBr",
        "outputId": "ab95dfe8-04f6-4184-fb34-fab6850f50eb"
      },
      "execution_count": 36,
      "outputs": [
        {
          "output_type": "execute_result",
          "data": {
            "text/plain": [
              "torch.Size([2, 2])"
            ]
          },
          "metadata": {},
          "execution_count": 36
        }
      ]
    },
    {
      "cell_type": "code",
      "source": [
        "# the reultant matrix picks the outer dimensions as predicted\n",
        "a=torch.rand([5,3])\n",
        "b=torch.rand([3,4])\n",
        "c=torch.mm(a,b)\n"
      ],
      "metadata": {
        "id": "NDjRN5btGlLQ"
      },
      "execution_count": 37,
      "outputs": []
    },
    {
      "cell_type": "code",
      "source": [
        "c"
      ],
      "metadata": {
        "colab": {
          "base_uri": "https://localhost:8080/"
        },
        "id": "zV81CvXMG3S-",
        "outputId": "d8915296-675a-4d95-abb5-8ea956096bf7"
      },
      "execution_count": 38,
      "outputs": [
        {
          "output_type": "execute_result",
          "data": {
            "text/plain": [
              "tensor([[1.3259, 0.8422, 1.2629, 1.6935],\n",
              "        [1.0088, 0.4467, 1.2736, 1.4006],\n",
              "        [0.9339, 0.3082, 0.8601, 0.9286],\n",
              "        [1.3331, 0.5637, 0.8870, 1.1300],\n",
              "        [1.0519, 0.6007, 1.0342, 1.3154]])"
            ]
          },
          "metadata": {},
          "execution_count": 38
        }
      ]
    },
    {
      "cell_type": "code",
      "source": [
        "# the resultant matrix should pick the outer dimension hence it will be (5x4)\n",
        "c.shape"
      ],
      "metadata": {
        "colab": {
          "base_uri": "https://localhost:8080/"
        },
        "id": "rn2cEV_-G4qQ",
        "outputId": "00fe876e-529b-4a77-a06a-866af92eda1b"
      },
      "execution_count": 39,
      "outputs": [
        {
          "output_type": "execute_result",
          "data": {
            "text/plain": [
              "torch.Size([5, 4])"
            ]
          },
          "metadata": {},
          "execution_count": 39
        }
      ]
    },
    {
      "cell_type": "markdown",
      "source": [
        "**Common errors in deep learning**"
      ],
      "metadata": {
        "id": "JqpLKwb7IM6W"
      }
    },
    {
      "cell_type": "code",
      "source": [
        "#shape errors torch.matmul is the same as torch.mm\n",
        "tensor_A=torch.rand([3,2])\n",
        "tensor_B=torch.rand([3,2])\n",
        "torch.mm(tensor_A,tensor_B)"
      ],
      "metadata": {
        "colab": {
          "base_uri": "https://localhost:8080/",
          "height": 176
        },
        "id": "uM5AdfczIUHj",
        "outputId": "f5dc6cd8-370e-4fce-8e93-2a5e3ea2445c"
      },
      "execution_count": 40,
      "outputs": [
        {
          "output_type": "error",
          "ename": "RuntimeError",
          "evalue": "mat1 and mat2 shapes cannot be multiplied (3x2 and 3x2)",
          "traceback": [
            "\u001b[0;31m---------------------------------------------------------------------------\u001b[0m",
            "\u001b[0;31mRuntimeError\u001b[0m                              Traceback (most recent call last)",
            "\u001b[0;32m<ipython-input-40-52559bfb7bce>\u001b[0m in \u001b[0;36m<cell line: 0>\u001b[0;34m()\u001b[0m\n\u001b[1;32m      2\u001b[0m \u001b[0mtensor_A\u001b[0m\u001b[0;34m=\u001b[0m\u001b[0mtorch\u001b[0m\u001b[0;34m.\u001b[0m\u001b[0mrand\u001b[0m\u001b[0;34m(\u001b[0m\u001b[0;34m[\u001b[0m\u001b[0;36m3\u001b[0m\u001b[0;34m,\u001b[0m\u001b[0;36m2\u001b[0m\u001b[0;34m]\u001b[0m\u001b[0;34m)\u001b[0m\u001b[0;34m\u001b[0m\u001b[0;34m\u001b[0m\u001b[0m\n\u001b[1;32m      3\u001b[0m \u001b[0mtensor_B\u001b[0m\u001b[0;34m=\u001b[0m\u001b[0mtorch\u001b[0m\u001b[0;34m.\u001b[0m\u001b[0mrand\u001b[0m\u001b[0;34m(\u001b[0m\u001b[0;34m[\u001b[0m\u001b[0;36m3\u001b[0m\u001b[0;34m,\u001b[0m\u001b[0;36m2\u001b[0m\u001b[0;34m]\u001b[0m\u001b[0;34m)\u001b[0m\u001b[0;34m\u001b[0m\u001b[0;34m\u001b[0m\u001b[0m\n\u001b[0;32m----> 4\u001b[0;31m \u001b[0mtorch\u001b[0m\u001b[0;34m.\u001b[0m\u001b[0mmm\u001b[0m\u001b[0;34m(\u001b[0m\u001b[0mtensor_A\u001b[0m\u001b[0;34m,\u001b[0m\u001b[0mtensor_B\u001b[0m\u001b[0;34m)\u001b[0m\u001b[0;34m\u001b[0m\u001b[0;34m\u001b[0m\u001b[0m\n\u001b[0m",
            "\u001b[0;31mRuntimeError\u001b[0m: mat1 and mat2 shapes cannot be multiplied (3x2 and 3x2)"
          ]
        }
      ]
    },
    {
      "cell_type": "code",
      "source": [
        "tensor_A.shape,tensor_B.shape"
      ],
      "metadata": {
        "colab": {
          "base_uri": "https://localhost:8080/"
        },
        "id": "XX15vMP1JEWs",
        "outputId": "0006fe87-f128-4b08-ab77-91168c7b67c8"
      },
      "execution_count": 41,
      "outputs": [
        {
          "output_type": "execute_result",
          "data": {
            "text/plain": [
              "(torch.Size([3, 2]), torch.Size([3, 2]))"
            ]
          },
          "metadata": {},
          "execution_count": 41
        }
      ]
    },
    {
      "cell_type": "code",
      "source": [
        "# the code does not run because the inner dimensions does not match"
      ],
      "metadata": {
        "id": "0osuSQLfJK6d"
      },
      "execution_count": 42,
      "outputs": []
    },
    {
      "cell_type": "markdown",
      "source": [
        "**To fix this tensor shape error issues, we can manupulate the shape of one of our tensors using transpose**\n",
        "Transpose switches the axes or dimensions of a given tensors"
      ],
      "metadata": {
        "id": "pOjVK9PPJfvE"
      }
    },
    {
      "cell_type": "code",
      "source": [
        "tensor_B=tensor_B.T"
      ],
      "metadata": {
        "id": "VLP9Kv5_JYpF"
      },
      "execution_count": 45,
      "outputs": []
    },
    {
      "cell_type": "code",
      "source": [
        "tensor_B"
      ],
      "metadata": {
        "colab": {
          "base_uri": "https://localhost:8080/"
        },
        "id": "e9NUeMo-RIiT",
        "outputId": "89423844-c160-4fc0-86a3-b953555cc1a3"
      },
      "execution_count": 44,
      "outputs": [
        {
          "output_type": "execute_result",
          "data": {
            "text/plain": [
              "tensor([[0.7660, 0.5791],\n",
              "        [0.6701, 0.0036],\n",
              "        [0.3666, 0.6409]])"
            ]
          },
          "metadata": {},
          "execution_count": 44
        }
      ]
    },
    {
      "cell_type": "code",
      "source": [
        "tensor_A=torch.rand([3,2])\n",
        "tensor_B=torch.rand([3,2])\n",
        "torch.mm(tensor_A,tensor_B.T)"
      ],
      "metadata": {
        "colab": {
          "base_uri": "https://localhost:8080/"
        },
        "id": "xa0068-GRLS2",
        "outputId": "5a22dfa6-ea4c-4327-c4cf-97257ffe364d"
      },
      "execution_count": 47,
      "outputs": [
        {
          "output_type": "execute_result",
          "data": {
            "text/plain": [
              "tensor([[0.6710, 0.2393, 0.5000],\n",
              "        [0.6222, 0.4839, 0.3609],\n",
              "        [0.5536, 0.5558, 0.2719]])"
            ]
          },
          "metadata": {},
          "execution_count": 47
        }
      ]
    },
    {
      "cell_type": "code",
      "source": [
        "#The above works when we transpose the tensor_B and thus the inner dimensions matches"
      ],
      "metadata": {
        "id": "eBvEYmIBRZaY"
      },
      "execution_count": 48,
      "outputs": []
    },
    {
      "cell_type": "markdown",
      "source": [
        "**FINDING THE MEAN,MIN,MAX,SUM ETC OF TENSORS**"
      ],
      "metadata": {
        "id": "vrNqk1IDTlNq"
      }
    },
    {
      "cell_type": "code",
      "source": [
        "#creat tensor\n",
        "x=torch.arange(22,100,3)\n",
        "x"
      ],
      "metadata": {
        "colab": {
          "base_uri": "https://localhost:8080/"
        },
        "id": "mbEMRmtSRrSJ",
        "outputId": "af8020eb-49ab-44c0-dc79-4b04681c1eab"
      },
      "execution_count": 52,
      "outputs": [
        {
          "output_type": "execute_result",
          "data": {
            "text/plain": [
              "tensor([22, 25, 28, 31, 34, 37, 40, 43, 46, 49, 52, 55, 58, 61, 64, 67, 70, 73,\n",
              "        76, 79, 82, 85, 88, 91, 94, 97])"
            ]
          },
          "metadata": {},
          "execution_count": 52
        }
      ]
    },
    {
      "cell_type": "code",
      "source": [
        "#find minimum value\n",
        "torch.min(x),x.min()"
      ],
      "metadata": {
        "colab": {
          "base_uri": "https://localhost:8080/"
        },
        "id": "RUb_rvW9T_Gw",
        "outputId": "8a412756-8e30-4151-ba9c-e646f01dbd38"
      },
      "execution_count": 53,
      "outputs": [
        {
          "output_type": "execute_result",
          "data": {
            "text/plain": [
              "(tensor(22), tensor(22))"
            ]
          },
          "metadata": {},
          "execution_count": 53
        }
      ]
    },
    {
      "cell_type": "code",
      "source": [
        "# finding maximum value of the tensor\n",
        "torch.max(x),x.max()"
      ],
      "metadata": {
        "colab": {
          "base_uri": "https://localhost:8080/"
        },
        "id": "wnFl80MkUO6x",
        "outputId": "8981f0d9-095f-4682-dd90-33bd52cd4774"
      },
      "execution_count": 54,
      "outputs": [
        {
          "output_type": "execute_result",
          "data": {
            "text/plain": [
              "(tensor(97), tensor(97))"
            ]
          },
          "metadata": {},
          "execution_count": 54
        }
      ]
    },
    {
      "cell_type": "code",
      "source": [
        "#finding mean of the tensor\n",
        "# we ensure that the tensor is of the same datatype\n",
        "torch.mean(x.type(torch.float32)),x.type(torch.float32).mean()"
      ],
      "metadata": {
        "colab": {
          "base_uri": "https://localhost:8080/"
        },
        "id": "i1qtXXplUbtv",
        "outputId": "35f3e8b0-88f6-42de-a8b8-6aa57e244e04"
      },
      "execution_count": 55,
      "outputs": [
        {
          "output_type": "execute_result",
          "data": {
            "text/plain": [
              "(tensor(59.5000), tensor(59.5000))"
            ]
          },
          "metadata": {},
          "execution_count": 55
        }
      ]
    },
    {
      "cell_type": "code",
      "source": [
        "# finding sum of the tensor\n",
        "torch.sum(x),x.sum()"
      ],
      "metadata": {
        "colab": {
          "base_uri": "https://localhost:8080/"
        },
        "id": "vAhjj4HBU3rQ",
        "outputId": "07b4f2cd-f6ff-4fbf-f108-2a828515dd73"
      },
      "execution_count": 56,
      "outputs": [
        {
          "output_type": "execute_result",
          "data": {
            "text/plain": [
              "(tensor(1547), tensor(1547))"
            ]
          },
          "metadata": {},
          "execution_count": 56
        }
      ]
    },
    {
      "cell_type": "markdown",
      "source": [
        "**FINDING POSITIONAL MEAN AND SUM ie AUGMAX,AUGMEAN RESPECTIVELY**"
      ],
      "metadata": {
        "id": "xvaZWHcpWLGg"
      }
    },
    {
      "cell_type": "markdown",
      "source": [
        "**This is how to find the index of mean and sum**"
      ],
      "metadata": {
        "id": "QqpFdChJWk69"
      }
    },
    {
      "cell_type": "code",
      "source": [
        "#find the position in tensor tha has the minimum value with argmin()--.reurns index position  where the minimum value occurs"
      ],
      "metadata": {
        "id": "v928C8jOWav6"
      },
      "execution_count": 57,
      "outputs": []
    },
    {
      "cell_type": "code",
      "source": [
        "x"
      ],
      "metadata": {
        "colab": {
          "base_uri": "https://localhost:8080/"
        },
        "id": "XZRm3oIlYLPa",
        "outputId": "4087d9a9-168e-4d05-f49f-e7275a523c68"
      },
      "execution_count": 58,
      "outputs": [
        {
          "output_type": "execute_result",
          "data": {
            "text/plain": [
              "tensor([22, 25, 28, 31, 34, 37, 40, 43, 46, 49, 52, 55, 58, 61, 64, 67, 70, 73,\n",
              "        76, 79, 82, 85, 88, 91, 94, 97])"
            ]
          },
          "metadata": {},
          "execution_count": 58
        }
      ]
    },
    {
      "cell_type": "code",
      "source": [
        "x.argmin()"
      ],
      "metadata": {
        "colab": {
          "base_uri": "https://localhost:8080/"
        },
        "id": "nDg9QLQ6ZSkO",
        "outputId": "b2ba6641-b332-481a-9226-ed3b1c247e58"
      },
      "execution_count": 59,
      "outputs": [
        {
          "output_type": "execute_result",
          "data": {
            "text/plain": [
              "tensor(0)"
            ]
          },
          "metadata": {},
          "execution_count": 59
        }
      ]
    },
    {
      "cell_type": "code",
      "source": [
        "x[0]"
      ],
      "metadata": {
        "colab": {
          "base_uri": "https://localhost:8080/"
        },
        "id": "uarepEB6ZZw4",
        "outputId": "7d1c54e9-6134-4bb7-8147-3051e0b9caba"
      },
      "execution_count": 61,
      "outputs": [
        {
          "output_type": "execute_result",
          "data": {
            "text/plain": [
              "tensor(22)"
            ]
          },
          "metadata": {},
          "execution_count": 61
        }
      ]
    },
    {
      "cell_type": "code",
      "source": [
        "#find the position in tensor that has the minimum value with argmax()--.reurns index position  where the minimum value occurs"
      ],
      "metadata": {
        "id": "251jEVUrZb0M"
      },
      "execution_count": 62,
      "outputs": []
    },
    {
      "cell_type": "code",
      "source": [
        "x"
      ],
      "metadata": {
        "colab": {
          "base_uri": "https://localhost:8080/"
        },
        "id": "1wWAM6y0aHpy",
        "outputId": "3f53ba24-a273-4f4c-8464-e7083f4e2211"
      },
      "execution_count": 63,
      "outputs": [
        {
          "output_type": "execute_result",
          "data": {
            "text/plain": [
              "tensor([22, 25, 28, 31, 34, 37, 40, 43, 46, 49, 52, 55, 58, 61, 64, 67, 70, 73,\n",
              "        76, 79, 82, 85, 88, 91, 94, 97])"
            ]
          },
          "metadata": {},
          "execution_count": 63
        }
      ]
    },
    {
      "cell_type": "code",
      "source": [
        "x.argmax()"
      ],
      "metadata": {
        "colab": {
          "base_uri": "https://localhost:8080/"
        },
        "id": "pB82-1zdaIe_",
        "outputId": "2342718c-00ef-4cde-c936-09019fcffb83"
      },
      "execution_count": 64,
      "outputs": [
        {
          "output_type": "execute_result",
          "data": {
            "text/plain": [
              "tensor(25)"
            ]
          },
          "metadata": {},
          "execution_count": 64
        }
      ]
    },
    {
      "cell_type": "code",
      "source": [
        "x[25]"
      ],
      "metadata": {
        "colab": {
          "base_uri": "https://localhost:8080/"
        },
        "id": "F5h_M6GSaMd8",
        "outputId": "bbffd2e5-d05d-4ef5-91f8-2ed5ae908293"
      },
      "execution_count": 65,
      "outputs": [
        {
          "output_type": "execute_result",
          "data": {
            "text/plain": [
              "tensor(97)"
            ]
          },
          "metadata": {},
          "execution_count": 65
        }
      ]
    },
    {
      "cell_type": "markdown",
      "source": [
        "**RESHAPING VIEWING, STACKING ,SQUEEZING AND UNSQUEEZING**\n",
        "\n",
        "**Reshaping**-reshapes an input tensor to a defined shape\n",
        "\n",
        "**View**-return a view of an input tensor of certain shape but keep the same memory as the original tensor\n",
        "\n",
        "**STACKING**-combines multiple tensors on top of each other (vstack) or side by side (hstack)\n",
        "**Squeeze**-removes all \"1\" dimensions from the tensors\n",
        "\n",
        "**Unsqueeze**-add a \"1\" dimensions to a target tensor\n",
        "**Permute** -Return a view of input with dimensions permuted(swapped) in a certain way"
      ],
      "metadata": {
        "id": "0OE4hoTnaaUL"
      }
    },
    {
      "cell_type": "markdown",
      "source": [],
      "metadata": {
        "id": "dXMpQ-v6bBt6"
      }
    },
    {
      "cell_type": "code",
      "source": [
        "#creat tensor\n",
        "x=torch.arange(1.,10)"
      ],
      "metadata": {
        "id": "u9c6RGS-ag_b"
      },
      "execution_count": 66,
      "outputs": []
    },
    {
      "cell_type": "code",
      "source": [
        "x"
      ],
      "metadata": {
        "colab": {
          "base_uri": "https://localhost:8080/"
        },
        "id": "sJH5E8erdmyZ",
        "outputId": "bc6e9346-bfba-4676-b163-2f102b6da3db"
      },
      "execution_count": 67,
      "outputs": [
        {
          "output_type": "execute_result",
          "data": {
            "text/plain": [
              "tensor([1., 2., 3., 4., 5., 6., 7., 8., 9.])"
            ]
          },
          "metadata": {},
          "execution_count": 67
        }
      ]
    },
    {
      "cell_type": "code",
      "source": [
        "# add an extra dimensions\n",
        "x_reshaped=x.reshape(3,3)\n"
      ],
      "metadata": {
        "id": "UusADr7Hdnok"
      },
      "execution_count": 70,
      "outputs": []
    },
    {
      "cell_type": "code",
      "source": [
        "x_reshaped"
      ],
      "metadata": {
        "colab": {
          "base_uri": "https://localhost:8080/"
        },
        "id": "zwUmcRimd7bm",
        "outputId": "be45f6ff-4109-4f00-b5dc-8c19a83746d0"
      },
      "execution_count": 71,
      "outputs": [
        {
          "output_type": "execute_result",
          "data": {
            "text/plain": [
              "tensor([[1., 2., 3.],\n",
              "        [4., 5., 6.],\n",
              "        [7., 8., 9.]])"
            ]
          },
          "metadata": {},
          "execution_count": 71
        }
      ]
    },
    {
      "cell_type": "code",
      "source": [
        "# the above is how we can have the shape of the tensor we need so long as number of elements match the tensor dimension in any arrangments\n",
        "# change the view"
      ],
      "metadata": {
        "id": "kgJQDAANd9Ml"
      },
      "execution_count": 72,
      "outputs": []
    },
    {
      "cell_type": "markdown",
      "source": [
        "**CHANGE THE VIEW**"
      ],
      "metadata": {
        "id": "qiRVQBDtevDx"
      }
    },
    {
      "cell_type": "code",
      "source": [
        "z=x.view(3,3)\n",
        "z,z.shape"
      ],
      "metadata": {
        "colab": {
          "base_uri": "https://localhost:8080/"
        },
        "id": "c4K8HgJfezMJ",
        "outputId": "ce44a2f0-f916-4a4e-f407-a0474a67549e"
      },
      "execution_count": 75,
      "outputs": [
        {
          "output_type": "execute_result",
          "data": {
            "text/plain": [
              "(tensor([[1., 2., 3.],\n",
              "         [4., 5., 6.],\n",
              "         [7., 8., 9.]]),\n",
              " torch.Size([3, 3]))"
            ]
          },
          "metadata": {},
          "execution_count": 75
        }
      ]
    },
    {
      "cell_type": "code",
      "source": [
        "# changing z changes x(because a view of a tensor shares the same memory as the original input)\n",
        "z[:,0] = 5\n",
        "z,x"
      ],
      "metadata": {
        "colab": {
          "base_uri": "https://localhost:8080/"
        },
        "id": "GFM4b1lpfe2f",
        "outputId": "b2ec1973-8544-43d1-f2fb-334e4d41d3c3"
      },
      "execution_count": 76,
      "outputs": [
        {
          "output_type": "execute_result",
          "data": {
            "text/plain": [
              "(tensor([[5., 2., 3.],\n",
              "         [5., 5., 6.],\n",
              "         [5., 8., 9.]]),\n",
              " tensor([5., 2., 3., 5., 5., 6., 5., 8., 9.]))"
            ]
          },
          "metadata": {},
          "execution_count": 76
        }
      ]
    },
    {
      "cell_type": "code",
      "source": [
        "x"
      ],
      "metadata": {
        "colab": {
          "base_uri": "https://localhost:8080/"
        },
        "id": "SmRQ-nzCgjT4",
        "outputId": "a7d4698c-ca1b-4b8a-a94c-088000ed2ac8"
      },
      "execution_count": 77,
      "outputs": [
        {
          "output_type": "execute_result",
          "data": {
            "text/plain": [
              "tensor([5., 2., 3., 5., 5., 6., 5., 8., 9.])"
            ]
          },
          "metadata": {},
          "execution_count": 77
        }
      ]
    },
    {
      "cell_type": "code",
      "source": [
        "# stack tensors on top of each other\n",
        "x_stacked=torch.stack([x,x,x,x,x],dim=1)\n",
        "x_stacked"
      ],
      "metadata": {
        "colab": {
          "base_uri": "https://localhost:8080/"
        },
        "id": "Gg2Ibql-gpMG",
        "outputId": "f895b1ba-27fe-4f4b-ed1d-7233134e1b6f"
      },
      "execution_count": 82,
      "outputs": [
        {
          "output_type": "execute_result",
          "data": {
            "text/plain": [
              "tensor([[5., 5., 5., 5., 5.],\n",
              "        [2., 2., 2., 2., 2.],\n",
              "        [3., 3., 3., 3., 3.],\n",
              "        [5., 5., 5., 5., 5.],\n",
              "        [5., 5., 5., 5., 5.],\n",
              "        [6., 6., 6., 6., 6.],\n",
              "        [5., 5., 5., 5., 5.],\n",
              "        [8., 8., 8., 8., 8.],\n",
              "        [9., 9., 9., 9., 9.]])"
            ]
          },
          "metadata": {},
          "execution_count": 82
        }
      ]
    },
    {
      "cell_type": "code",
      "source": [
        "# this is how to stack the tensors onto each other"
      ],
      "metadata": {
        "id": "Zb9lNXcZhHx1"
      },
      "execution_count": 83,
      "outputs": []
    },
    {
      "cell_type": "code",
      "source": [
        "p=torch.arange(0,100,5)"
      ],
      "metadata": {
        "id": "180zar9CheH1"
      },
      "execution_count": 89,
      "outputs": []
    },
    {
      "cell_type": "code",
      "source": [
        "p.shape"
      ],
      "metadata": {
        "colab": {
          "base_uri": "https://localhost:8080/"
        },
        "id": "MYSWrSzWhtkh",
        "outputId": "3a286dfe-e6ae-4546-8533-1db38e78c9ba"
      },
      "execution_count": 91,
      "outputs": [
        {
          "output_type": "execute_result",
          "data": {
            "text/plain": [
              "torch.Size([20])"
            ]
          },
          "metadata": {},
          "execution_count": 91
        }
      ]
    },
    {
      "cell_type": "code",
      "source": [
        "y=p.reshape(5,4)"
      ],
      "metadata": {
        "id": "8JF6QuOvh0-i"
      },
      "execution_count": 92,
      "outputs": []
    },
    {
      "cell_type": "code",
      "source": [
        "y"
      ],
      "metadata": {
        "colab": {
          "base_uri": "https://localhost:8080/"
        },
        "id": "PXdmXwNeiCTo",
        "outputId": "58d8fbd1-70bb-4ee3-cfbb-20cb5edf379b"
      },
      "execution_count": 93,
      "outputs": [
        {
          "output_type": "execute_result",
          "data": {
            "text/plain": [
              "tensor([[ 0,  5, 10, 15],\n",
              "        [20, 25, 30, 35],\n",
              "        [40, 45, 50, 55],\n",
              "        [60, 65, 70, 75],\n",
              "        [80, 85, 90, 95]])"
            ]
          },
          "metadata": {},
          "execution_count": 93
        }
      ]
    },
    {
      "cell_type": "code",
      "source": [
        "z=torch.stack([y,y],dim=0)"
      ],
      "metadata": {
        "id": "nmeqnGE-iDPH"
      },
      "execution_count": 99,
      "outputs": []
    },
    {
      "cell_type": "code",
      "source": [
        "z"
      ],
      "metadata": {
        "colab": {
          "base_uri": "https://localhost:8080/"
        },
        "id": "6npmo-iXiKck",
        "outputId": "0e5f2413-9842-4840-c8ae-8a0bcf5083ca"
      },
      "execution_count": 100,
      "outputs": [
        {
          "output_type": "execute_result",
          "data": {
            "text/plain": [
              "tensor([[[ 0,  5, 10, 15],\n",
              "         [20, 25, 30, 35],\n",
              "         [40, 45, 50, 55],\n",
              "         [60, 65, 70, 75],\n",
              "         [80, 85, 90, 95]],\n",
              "\n",
              "        [[ 0,  5, 10, 15],\n",
              "         [20, 25, 30, 35],\n",
              "         [40, 45, 50, 55],\n",
              "         [60, 65, 70, 75],\n",
              "         [80, 85, 90, 95]]])"
            ]
          },
          "metadata": {},
          "execution_count": 100
        }
      ]
    },
    {
      "cell_type": "code",
      "source": [
        "#torch.squeeze()_remove all single dimensions\n"
      ],
      "metadata": {
        "id": "Ad2OhMHCiLhp"
      },
      "execution_count": 101,
      "outputs": []
    },
    {
      "cell_type": "code",
      "source": [
        "s=torch.rand(1,9)"
      ],
      "metadata": {
        "id": "Z7-3lnGEilqM"
      },
      "execution_count": 108,
      "outputs": []
    },
    {
      "cell_type": "code",
      "source": [
        "s"
      ],
      "metadata": {
        "colab": {
          "base_uri": "https://localhost:8080/"
        },
        "id": "u_Evkg0gjY99",
        "outputId": "8f615499-7f76-45dc-8640-6143c499e7ad"
      },
      "execution_count": 109,
      "outputs": [
        {
          "output_type": "execute_result",
          "data": {
            "text/plain": [
              "tensor([[0.6161, 0.4958, 0.2237, 0.6828, 0.5475, 0.1794, 0.2004, 0.4803, 0.0492]])"
            ]
          },
          "metadata": {},
          "execution_count": 109
        }
      ]
    },
    {
      "cell_type": "code",
      "source": [
        "s.shape"
      ],
      "metadata": {
        "colab": {
          "base_uri": "https://localhost:8080/"
        },
        "id": "xsZkNgOkjbNt",
        "outputId": "76606cb3-7641-4edb-993a-49fb6af37334"
      },
      "execution_count": 110,
      "outputs": [
        {
          "output_type": "execute_result",
          "data": {
            "text/plain": [
              "torch.Size([1, 9])"
            ]
          },
          "metadata": {},
          "execution_count": 110
        }
      ]
    },
    {
      "cell_type": "code",
      "source": [
        "s.squeeze().shape"
      ],
      "metadata": {
        "colab": {
          "base_uri": "https://localhost:8080/"
        },
        "id": "C0ljk798i2lL",
        "outputId": "0c8b39b5-59c4-4295-e7cd-bd5d9afe5e33"
      },
      "execution_count": 111,
      "outputs": [
        {
          "output_type": "execute_result",
          "data": {
            "text/plain": [
              "torch.Size([9])"
            ]
          },
          "metadata": {},
          "execution_count": 111
        }
      ]
    },
    {
      "cell_type": "code",
      "source": [
        "print(f\"previous tensor:{s}\")\n",
        "print(f\"previous shape:{s.shape}\")"
      ],
      "metadata": {
        "colab": {
          "base_uri": "https://localhost:8080/"
        },
        "id": "l92jDL4ijAj7",
        "outputId": "98545594-953e-4fe1-c1c5-6125babab31d"
      },
      "execution_count": 112,
      "outputs": [
        {
          "output_type": "stream",
          "name": "stdout",
          "text": [
            "previous tensor:tensor([[0.6161, 0.4958, 0.2237, 0.6828, 0.5475, 0.1794, 0.2004, 0.4803, 0.0492]])\n",
            "previous shape:torch.Size([1, 9])\n"
          ]
        }
      ]
    },
    {
      "cell_type": "code",
      "source": [
        "print(f\"new tensor:{s.squeeze()}\")\n",
        "print(f\"new shape:{s.squeeze().shape}\")"
      ],
      "metadata": {
        "colab": {
          "base_uri": "https://localhost:8080/"
        },
        "id": "UmOoJ_2Gj9oy",
        "outputId": "b6068a02-19f5-4f3c-f030-cc65eaeb36cd"
      },
      "execution_count": 113,
      "outputs": [
        {
          "output_type": "stream",
          "name": "stdout",
          "text": [
            "new tensor:tensor([0.6161, 0.4958, 0.2237, 0.6828, 0.5475, 0.1794, 0.2004, 0.4803, 0.0492])\n",
            "new shape:torch.Size([9])\n"
          ]
        }
      ]
    },
    {
      "cell_type": "code",
      "source": [
        "# torch.unsqueeze()--adds a single dimension to a target tensor at a specific dim(dimension)"
      ],
      "metadata": {
        "id": "fYvEAgxjkIgy"
      },
      "execution_count": 114,
      "outputs": []
    },
    {
      "cell_type": "code",
      "source": [
        "print(f\"previous target:{s}\")\n",
        "print(f\"previous shape:{s.shape}\")"
      ],
      "metadata": {
        "colab": {
          "base_uri": "https://localhost:8080/"
        },
        "id": "eF6SbZvOkd-9",
        "outputId": "0ba43b94-e105-48a8-923c-bcf45a0abcc1"
      },
      "execution_count": 115,
      "outputs": [
        {
          "output_type": "stream",
          "name": "stdout",
          "text": [
            "previous target:tensor([[0.6161, 0.4958, 0.2237, 0.6828, 0.5475, 0.1794, 0.2004, 0.4803, 0.0492]])\n",
            "previous shape:torch.Size([1, 9])\n"
          ]
        }
      ]
    },
    {
      "cell_type": "code",
      "source": [
        "print(f\"new target:{s.unsqueeze(dim=0)}\")\n",
        "print(f\"new shape:{s.unsqueeze(dim=1).shape}\")\n"
      ],
      "metadata": {
        "colab": {
          "base_uri": "https://localhost:8080/"
        },
        "id": "92lltJ0AknRZ",
        "outputId": "5f0a94fd-5f15-49e2-9380-1527335be784"
      },
      "execution_count": 118,
      "outputs": [
        {
          "output_type": "stream",
          "name": "stdout",
          "text": [
            "new target:tensor([[[0.6161, 0.4958, 0.2237, 0.6828, 0.5475, 0.1794, 0.2004, 0.4803,\n",
            "          0.0492]]])\n",
            "new shape:torch.Size([1, 1, 9])\n"
          ]
        }
      ]
    },
    {
      "cell_type": "code",
      "source": [
        "print(f\"new target:{s.unsqueeze(dim=1)}\")\n",
        "print(f\"new shape:{s.unsqueeze(dim=1).shape}\")"
      ],
      "metadata": {
        "colab": {
          "base_uri": "https://localhost:8080/"
        },
        "id": "pUmJs5jSk2G0",
        "outputId": "45e73b84-0832-4049-dbd6-3eed2b619b7d"
      },
      "execution_count": 119,
      "outputs": [
        {
          "output_type": "stream",
          "name": "stdout",
          "text": [
            "new target:tensor([[[0.6161, 0.4958, 0.2237, 0.6828, 0.5475, 0.1794, 0.2004, 0.4803,\n",
            "          0.0492]]])\n",
            "new shape:torch.Size([1, 1, 9])\n"
          ]
        }
      ]
    },
    {
      "cell_type": "code",
      "source": [
        "print(f\"new target:{s.unsqueeze(dim=2)}\")\n",
        "print(f\"new shape:{s.unsqueeze(dim=2).shape}\")"
      ],
      "metadata": {
        "colab": {
          "base_uri": "https://localhost:8080/"
        },
        "id": "mTsNgqxJlH5y",
        "outputId": "a2896df0-f248-4c65-f3d9-3b1e74f972e6"
      },
      "execution_count": 120,
      "outputs": [
        {
          "output_type": "stream",
          "name": "stdout",
          "text": [
            "new target:tensor([[[0.6161],\n",
            "         [0.4958],\n",
            "         [0.2237],\n",
            "         [0.6828],\n",
            "         [0.5475],\n",
            "         [0.1794],\n",
            "         [0.2004],\n",
            "         [0.4803],\n",
            "         [0.0492]]])\n",
            "new shape:torch.Size([1, 9, 1])\n"
          ]
        }
      ]
    },
    {
      "cell_type": "code",
      "source": [
        "print(f\"new target:{s.unsqueeze(dim=4)}\")\n",
        "print(f\"new shape:{s.unsqueeze(dim=4).shape}\")"
      ],
      "metadata": {
        "colab": {
          "base_uri": "https://localhost:8080/",
          "height": 176
        },
        "id": "O1JbPuDzlMCn",
        "outputId": "8a23bbde-6060-4c51-a06b-318c732cb6b1"
      },
      "execution_count": 122,
      "outputs": [
        {
          "output_type": "error",
          "ename": "IndexError",
          "evalue": "Dimension out of range (expected to be in range of [-3, 2], but got 4)",
          "traceback": [
            "\u001b[0;31m---------------------------------------------------------------------------\u001b[0m",
            "\u001b[0;31mIndexError\u001b[0m                                Traceback (most recent call last)",
            "\u001b[0;32m<ipython-input-122-1375bf34b924>\u001b[0m in \u001b[0;36m<cell line: 0>\u001b[0;34m()\u001b[0m\n\u001b[0;32m----> 1\u001b[0;31m \u001b[0mprint\u001b[0m\u001b[0;34m(\u001b[0m\u001b[0;34mf\"new target:{s.unsqueeze(dim=4)}\"\u001b[0m\u001b[0;34m)\u001b[0m\u001b[0;34m\u001b[0m\u001b[0;34m\u001b[0m\u001b[0m\n\u001b[0m\u001b[1;32m      2\u001b[0m \u001b[0mprint\u001b[0m\u001b[0;34m(\u001b[0m\u001b[0;34mf\"new shape:{s.unsqueeze(dim=4).shape}\"\u001b[0m\u001b[0;34m)\u001b[0m\u001b[0;34m\u001b[0m\u001b[0;34m\u001b[0m\u001b[0m\n",
            "\u001b[0;31mIndexError\u001b[0m: Dimension out of range (expected to be in range of [-3, 2], but got 4)"
          ]
        }
      ]
    },
    {
      "cell_type": "code",
      "source": [
        "#torch.permute_rearrange the dimensions of target tensors a specified order"
      ],
      "metadata": {
        "id": "U8-_rAcElRMM"
      },
      "execution_count": 123,
      "outputs": []
    },
    {
      "cell_type": "code",
      "source": [
        "x_original=torch.rand(size=(224,224,3))# height,width,color_channels"
      ],
      "metadata": {
        "id": "uwHFzHTklx7U"
      },
      "execution_count": 124,
      "outputs": []
    },
    {
      "cell_type": "code",
      "source": [
        "#permute the original tensor to rearrange the axis(or dim)order\n"
      ],
      "metadata": {
        "id": "8USNTo8tmZ04"
      },
      "execution_count": 125,
      "outputs": []
    },
    {
      "cell_type": "code",
      "source": [
        "x_permuted=x_original.permute(2,0,1)"
      ],
      "metadata": {
        "id": "a8WCbpjTms-e"
      },
      "execution_count": 126,
      "outputs": []
    },
    {
      "cell_type": "code",
      "source": [
        "x_permuted.shape"
      ],
      "metadata": {
        "colab": {
          "base_uri": "https://localhost:8080/"
        },
        "id": "uaAt0s99mxST",
        "outputId": "eab49554-7249-4f61-f6ac-e61b712d4233"
      },
      "execution_count": 127,
      "outputs": [
        {
          "output_type": "execute_result",
          "data": {
            "text/plain": [
              "torch.Size([3, 224, 224])"
            ]
          },
          "metadata": {},
          "execution_count": 127
        }
      ]
    },
    {
      "cell_type": "code",
      "source": [
        "x_original.shape"
      ],
      "metadata": {
        "colab": {
          "base_uri": "https://localhost:8080/"
        },
        "id": "XyWA3NHZmziK",
        "outputId": "7b550d5a-864a-4746-9d22-693d49b9fb5b"
      },
      "execution_count": 128,
      "outputs": [
        {
          "output_type": "execute_result",
          "data": {
            "text/plain": [
              "torch.Size([224, 224, 3])"
            ]
          },
          "metadata": {},
          "execution_count": 128
        }
      ]
    },
    {
      "cell_type": "code",
      "source": [
        "print(f\"previous shape:{x_original.shape}\")\n",
        "print(f\"new shape:{x_permuted.shape}\")"
      ],
      "metadata": {
        "colab": {
          "base_uri": "https://localhost:8080/"
        },
        "id": "IdNGgqUbm3v4",
        "outputId": "cd702b03-f976-4b75-a462-e9097fc9c9a1"
      },
      "execution_count": 129,
      "outputs": [
        {
          "output_type": "stream",
          "name": "stdout",
          "text": [
            "previous shape:torch.Size([224, 224, 3])\n",
            "new shape:torch.Size([3, 224, 224])\n"
          ]
        }
      ]
    },
    {
      "cell_type": "code",
      "source": [
        "print(f\"previous shape:{x_original}\")\n",
        "print(f\"new shape:{x_permuted}\")"
      ],
      "metadata": {
        "colab": {
          "base_uri": "https://localhost:8080/"
        },
        "id": "UI-sTFTsnAYV",
        "outputId": "00780861-a5cd-4690-948a-ffe4e3655f46"
      },
      "execution_count": 130,
      "outputs": [
        {
          "output_type": "stream",
          "name": "stdout",
          "text": [
            "previous shape:tensor([[[3.5491e-02, 3.9622e-01, 3.4610e-01],\n",
            "         [1.5225e-01, 5.6633e-01, 7.3643e-01],\n",
            "         [4.1947e-01, 9.6461e-01, 8.6284e-01],\n",
            "         ...,\n",
            "         [8.2718e-01, 6.0001e-01, 3.6585e-03],\n",
            "         [5.4858e-02, 2.7656e-02, 4.4262e-01],\n",
            "         [4.0981e-01, 4.4298e-01, 4.2427e-01]],\n",
            "\n",
            "        [[4.5926e-01, 5.9897e-01, 8.9021e-01],\n",
            "         [5.1508e-01, 1.4984e-01, 1.8943e-01],\n",
            "         [1.7009e-01, 3.9785e-01, 2.3412e-01],\n",
            "         ...,\n",
            "         [6.4143e-01, 7.8307e-01, 4.1441e-01],\n",
            "         [3.1382e-01, 7.7334e-01, 4.2781e-01],\n",
            "         [2.5267e-01, 3.1020e-01, 5.9470e-01]],\n",
            "\n",
            "        [[6.1778e-01, 6.5375e-01, 6.2840e-02],\n",
            "         [6.9611e-01, 5.2347e-02, 3.9172e-01],\n",
            "         [8.2668e-02, 5.6536e-01, 3.2306e-01],\n",
            "         ...,\n",
            "         [1.6511e-01, 3.3341e-01, 9.0119e-01],\n",
            "         [2.8587e-01, 7.0239e-01, 2.4090e-01],\n",
            "         [5.1610e-03, 5.5434e-01, 2.3244e-01]],\n",
            "\n",
            "        ...,\n",
            "\n",
            "        [[9.3172e-01, 8.2869e-01, 3.1966e-02],\n",
            "         [5.7200e-01, 9.9077e-01, 4.0694e-01],\n",
            "         [5.0195e-01, 5.2660e-01, 4.3021e-01],\n",
            "         ...,\n",
            "         [5.0342e-01, 5.9321e-01, 6.8623e-01],\n",
            "         [5.2995e-01, 8.2400e-01, 7.9179e-01],\n",
            "         [5.3239e-01, 9.2125e-01, 1.1368e-01]],\n",
            "\n",
            "        [[3.5907e-01, 2.9578e-01, 9.6079e-01],\n",
            "         [5.0421e-01, 9.6547e-01, 9.0824e-01],\n",
            "         [2.5371e-01, 6.4721e-01, 5.3869e-01],\n",
            "         ...,\n",
            "         [9.2793e-01, 4.4958e-01, 1.8260e-01],\n",
            "         [7.5558e-03, 8.3816e-01, 9.0885e-04],\n",
            "         [3.9925e-01, 9.7067e-02, 9.7885e-01]],\n",
            "\n",
            "        [[9.6286e-01, 1.3758e-01, 9.6252e-01],\n",
            "         [2.8861e-01, 3.5087e-01, 4.5075e-01],\n",
            "         [3.9503e-01, 8.5889e-02, 2.8496e-01],\n",
            "         ...,\n",
            "         [3.7176e-01, 4.0117e-01, 3.4506e-02],\n",
            "         [1.8416e-01, 1.4830e-01, 1.9001e-01],\n",
            "         [6.9007e-01, 1.0890e-01, 2.6662e-01]]])\n",
            "new shape:tensor([[[3.5491e-02, 1.5225e-01, 4.1947e-01,  ..., 8.2718e-01,\n",
            "          5.4858e-02, 4.0981e-01],\n",
            "         [4.5926e-01, 5.1508e-01, 1.7009e-01,  ..., 6.4143e-01,\n",
            "          3.1382e-01, 2.5267e-01],\n",
            "         [6.1778e-01, 6.9611e-01, 8.2668e-02,  ..., 1.6511e-01,\n",
            "          2.8587e-01, 5.1610e-03],\n",
            "         ...,\n",
            "         [9.3172e-01, 5.7200e-01, 5.0195e-01,  ..., 5.0342e-01,\n",
            "          5.2995e-01, 5.3239e-01],\n",
            "         [3.5907e-01, 5.0421e-01, 2.5371e-01,  ..., 9.2793e-01,\n",
            "          7.5558e-03, 3.9925e-01],\n",
            "         [9.6286e-01, 2.8861e-01, 3.9503e-01,  ..., 3.7176e-01,\n",
            "          1.8416e-01, 6.9007e-01]],\n",
            "\n",
            "        [[3.9622e-01, 5.6633e-01, 9.6461e-01,  ..., 6.0001e-01,\n",
            "          2.7656e-02, 4.4298e-01],\n",
            "         [5.9897e-01, 1.4984e-01, 3.9785e-01,  ..., 7.8307e-01,\n",
            "          7.7334e-01, 3.1020e-01],\n",
            "         [6.5375e-01, 5.2347e-02, 5.6536e-01,  ..., 3.3341e-01,\n",
            "          7.0239e-01, 5.5434e-01],\n",
            "         ...,\n",
            "         [8.2869e-01, 9.9077e-01, 5.2660e-01,  ..., 5.9321e-01,\n",
            "          8.2400e-01, 9.2125e-01],\n",
            "         [2.9578e-01, 9.6547e-01, 6.4721e-01,  ..., 4.4958e-01,\n",
            "          8.3816e-01, 9.7067e-02],\n",
            "         [1.3758e-01, 3.5087e-01, 8.5889e-02,  ..., 4.0117e-01,\n",
            "          1.4830e-01, 1.0890e-01]],\n",
            "\n",
            "        [[3.4610e-01, 7.3643e-01, 8.6284e-01,  ..., 3.6585e-03,\n",
            "          4.4262e-01, 4.2427e-01],\n",
            "         [8.9021e-01, 1.8943e-01, 2.3412e-01,  ..., 4.1441e-01,\n",
            "          4.2781e-01, 5.9470e-01],\n",
            "         [6.2840e-02, 3.9172e-01, 3.2306e-01,  ..., 9.0119e-01,\n",
            "          2.4090e-01, 2.3244e-01],\n",
            "         ...,\n",
            "         [3.1966e-02, 4.0694e-01, 4.3021e-01,  ..., 6.8623e-01,\n",
            "          7.9179e-01, 1.1368e-01],\n",
            "         [9.6079e-01, 9.0824e-01, 5.3869e-01,  ..., 1.8260e-01,\n",
            "          9.0885e-04, 9.7885e-01],\n",
            "         [9.6252e-01, 4.5075e-01, 2.8496e-01,  ..., 3.4506e-02,\n",
            "          1.9001e-01, 2.6662e-01]]])\n"
          ]
        }
      ]
    },
    {
      "cell_type": "code",
      "source": [
        "x_original[0,0,0]=100\n",
        "x_original[0,0,0],x_permuted[0,0,0]"
      ],
      "metadata": {
        "colab": {
          "base_uri": "https://localhost:8080/"
        },
        "id": "TGDI78lunHK8",
        "outputId": "321b2c04-2ff5-4bd2-86b9-4b5d7f724599"
      },
      "execution_count": 131,
      "outputs": [
        {
          "output_type": "execute_result",
          "data": {
            "text/plain": [
              "(tensor(100.), tensor(100.))"
            ]
          },
          "metadata": {},
          "execution_count": 131
        }
      ]
    },
    {
      "cell_type": "code",
      "source": [
        "# indexing (selecting data from tensor)"
      ],
      "metadata": {
        "id": "4BGvf2FpnpmZ"
      },
      "execution_count": null,
      "outputs": []
    }
  ]
}