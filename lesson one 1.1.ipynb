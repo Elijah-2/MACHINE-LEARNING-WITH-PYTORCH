{
  "cells": [
    {
      "cell_type": "code",
      "execution_count": null,
      "metadata": {
        "id": "zwFnJsE6vjf8"
      },
      "outputs": [],
      "source": []
    },
    {
      "cell_type": "code",
      "execution_count": null,
      "metadata": {
        "id": "sE9BUvHzNlnH"
      },
      "outputs": [],
      "source": [
        "# PYTORCH FUNDAMENTALS"
      ]
    },
    {
      "cell_type": "markdown",
      "metadata": {
        "id": "BA6aiRMZiorU"
      },
      "source": [
        "**PYTORCH FUNDAMENTALS**"
      ]
    },
    {
      "cell_type": "markdown",
      "metadata": {
        "id": "N-H66Fz5Oeoy"
      },
      "source": []
    },
    {
      "cell_type": "code",
      "execution_count": 2,
      "metadata": {
        "id": "4zLGG37zNuHQ"
      },
      "outputs": [],
      "source": [
        "import torch\n",
        "import pandas as pd\n",
        "import numpy as np\n",
        "import matplotlib.pyplot as plt"
      ]
    },
    {
      "cell_type": "code",
      "execution_count": 3,
      "metadata": {
        "colab": {
          "base_uri": "https://localhost:8080/"
        },
        "id": "nZyOtXAiOjPO",
        "outputId": "18b029ce-4447-4920-85e9-12d0e73b8158"
      },
      "outputs": [
        {
          "name": "stdout",
          "output_type": "stream",
          "text": [
            "2.5.1+cu121\n"
          ]
        }
      ],
      "source": [
        "print(torch.__version__)"
      ]
    },
    {
      "cell_type": "code",
      "execution_count": 4,
      "metadata": {
        "colab": {
          "base_uri": "https://localhost:8080/"
        },
        "id": "oDeJOPISOy6W",
        "outputId": "bf6f1773-6d30-4db7-c21e-4df22c7446bf"
      },
      "outputs": [
        {
          "data": {
            "text/plain": [
              "tensor(7)"
            ]
          },
          "execution_count": 4,
          "metadata": {},
          "output_type": "execute_result"
        }
      ],
      "source": [
        "## introduction to tensor\n",
        "### creating tensor\n",
        "# scalar\n",
        "scalar=torch.tensor(7)\n",
        "scalar"
      ]
    },
    {
      "cell_type": "markdown",
      "metadata": {
        "id": "sTeGVQI8SszJ"
      },
      "source": []
    },
    {
      "cell_type": "markdown",
      "metadata": {
        "id": "x7-8JNlBS3Ia"
      },
      "source": [
        "**PyTorch tensors are created by using 'torch.Tensor()'**"
      ]
    },
    {
      "cell_type": "code",
      "execution_count": null,
      "metadata": {
        "id": "xfCA2-n5Qm1V"
      },
      "outputs": [],
      "source": []
    },
    {
      "cell_type": "markdown",
      "metadata": {
        "id": "DuFh-xrOSsAl"
      },
      "source": []
    },
    {
      "cell_type": "markdown",
      "metadata": {
        "id": "BZ-1HpCQRYOS"
      },
      "source": [
        "**This is how to check for the number of dimensions**"
      ]
    },
    {
      "cell_type": "code",
      "execution_count": 5,
      "metadata": {
        "colab": {
          "base_uri": "https://localhost:8080/"
        },
        "id": "7RfPlcLVRM2_",
        "outputId": "75e1bf7b-d26d-48fb-e31e-b1274c74cf38"
      },
      "outputs": [
        {
          "data": {
            "text/plain": [
              "0"
            ]
          },
          "execution_count": 5,
          "metadata": {},
          "output_type": "execute_result"
        }
      ],
      "source": [
        "scalar.ndim"
      ]
    },
    {
      "cell_type": "markdown",
      "metadata": {
        "id": "hIXnHxsvRhEu"
      },
      "source": [
        "**To check items in scalar**"
      ]
    },
    {
      "cell_type": "markdown",
      "metadata": {
        "id": "F6Z2s8rnRMcI"
      },
      "source": []
    },
    {
      "cell_type": "code",
      "execution_count": 7,
      "metadata": {
        "colab": {
          "base_uri": "https://localhost:8080/"
        },
        "id": "_8wVE8FwRrPo",
        "outputId": "3ddb82cd-8160-484c-f14d-38a717136b3d"
      },
      "outputs": [
        {
          "data": {
            "text/plain": [
              "7"
            ]
          },
          "execution_count": 7,
          "metadata": {},
          "output_type": "execute_result"
        }
      ],
      "source": [
        "scalar.item()"
      ]
    },
    {
      "cell_type": "markdown",
      "metadata": {
        "id": "-B3uyyZ_SAGT"
      },
      "source": [
        "**Lets now talk about vectors,\n",
        "Vectors has both magnitude and directions**"
      ]
    },
    {
      "cell_type": "markdown",
      "metadata": {
        "id": "myK9KcAhQ-Yv"
      },
      "source": []
    },
    {
      "cell_type": "code",
      "execution_count": 8,
      "metadata": {
        "colab": {
          "base_uri": "https://localhost:8080/"
        },
        "id": "5UbeMVLwSMQ-",
        "outputId": "0609b179-c5ed-47a3-80aa-347889eca5bd"
      },
      "outputs": [
        {
          "data": {
            "text/plain": [
              "tensor([7., 7.])"
            ]
          },
          "execution_count": 8,
          "metadata": {},
          "output_type": "execute_result"
        }
      ],
      "source": [
        "vector=torch.Tensor([7,7])\n",
        "vector"
      ]
    },
    {
      "cell_type": "markdown",
      "metadata": {
        "id": "A8VA5m9qSXs7"
      },
      "source": [
        "**to check the shape this is what we do**"
      ]
    },
    {
      "cell_type": "code",
      "execution_count": 9,
      "metadata": {
        "colab": {
          "base_uri": "https://localhost:8080/"
        },
        "id": "1CBlAysYSdhk",
        "outputId": "acafcf24-9dd9-4575-abe1-d79cee680c01"
      },
      "outputs": [
        {
          "data": {
            "text/plain": [
              "torch.Size([2])"
            ]
          },
          "execution_count": 9,
          "metadata": {},
          "output_type": "execute_result"
        }
      ],
      "source": [
        "vector.shape"
      ]
    },
    {
      "cell_type": "markdown",
      "metadata": {
        "id": "UGczflNyTBKe"
      },
      "source": [
        "**MATRIX**\n"
      ]
    },
    {
      "cell_type": "markdown",
      "metadata": {
        "id": "ITuoBlfLQ7dl"
      },
      "source": []
    },
    {
      "cell_type": "code",
      "execution_count": 12,
      "metadata": {
        "colab": {
          "base_uri": "https://localhost:8080/"
        },
        "id": "sWCjfRcoTMAE",
        "outputId": "875f4fcc-7b34-409c-e1db-eea9b4f0b267"
      },
      "outputs": [
        {
          "data": {
            "text/plain": [
              "tensor([[ 7.,  8.],\n",
              "        [ 9., 10.]])"
            ]
          },
          "execution_count": 12,
          "metadata": {},
          "output_type": "execute_result"
        }
      ],
      "source": [
        "MATRIX= torch.Tensor([[7,8],\n",
        "                     [9,10]])\n",
        "MATRIX"
      ]
    },
    {
      "cell_type": "markdown",
      "metadata": {
        "id": "gQkptcsKTlmR"
      },
      "source": [
        "In matrix we use double square brackets"
      ]
    },
    {
      "cell_type": "code",
      "execution_count": 13,
      "metadata": {
        "colab": {
          "base_uri": "https://localhost:8080/"
        },
        "id": "lIiAMARVT1VH",
        "outputId": "604c5f17-0716-4ff5-f192-056568bbe28d"
      },
      "outputs": [
        {
          "data": {
            "text/plain": [
              "2"
            ]
          },
          "execution_count": 13,
          "metadata": {},
          "output_type": "execute_result"
        }
      ],
      "source": [
        "# To check number of dimensions\n",
        "MATRIX.ndim"
      ]
    },
    {
      "cell_type": "markdown",
      "metadata": {
        "id": "uC6U1BSWUFzY"
      },
      "source": [
        "**Therefore matrix has 2 dimensions  and the value in each dimensions can be accessed**"
      ]
    },
    {
      "cell_type": "code",
      "execution_count": 14,
      "metadata": {
        "colab": {
          "base_uri": "https://localhost:8080/"
        },
        "id": "0XnZjWqGUUXh",
        "outputId": "616271c8-a013-4670-b9f3-c2e086219fcf"
      },
      "outputs": [
        {
          "data": {
            "text/plain": [
              "tensor([7., 8.])"
            ]
          },
          "execution_count": 14,
          "metadata": {},
          "output_type": "execute_result"
        }
      ],
      "source": [
        "MATRIX[0]"
      ]
    },
    {
      "cell_type": "markdown",
      "metadata": {
        "id": "1Ae6xYWsUX8A"
      },
      "source": [
        "Just simple as the above work"
      ]
    },
    {
      "cell_type": "code",
      "execution_count": 15,
      "metadata": {
        "colab": {
          "base_uri": "https://localhost:8080/"
        },
        "id": "0lCc6HDLUrlg",
        "outputId": "dd7a0fa9-5aa1-4d9f-e028-e953bad6ca81"
      },
      "outputs": [
        {
          "data": {
            "text/plain": [
              "torch.Size([2, 2])"
            ]
          },
          "execution_count": 15,
          "metadata": {},
          "output_type": "execute_result"
        }
      ],
      "source": [
        "# this is how to determine shape of the matrix\n",
        "MATRIX.shape"
      ]
    },
    {
      "cell_type": "markdown",
      "metadata": {
        "id": "jVMY3GoNU50Y"
      },
      "source": [
        "This is a 2x2 matrix"
      ]
    },
    {
      "cell_type": "code",
      "execution_count": 16,
      "metadata": {
        "id": "iz5AloOeU-lL"
      },
      "outputs": [],
      "source": [
        "TENSOR= torch.tensor([[[1,2,3],\n",
        "                       [3,6,9],\n",
        "                       [2,4,5]]])"
      ]
    },
    {
      "cell_type": "code",
      "execution_count": 18,
      "metadata": {
        "colab": {
          "base_uri": "https://localhost:8080/"
        },
        "id": "uu3HPz_bVXyR",
        "outputId": "b29f3001-5919-456b-fbdd-f2bb7d8ffa3b"
      },
      "outputs": [
        {
          "data": {
            "text/plain": [
              "3"
            ]
          },
          "execution_count": 18,
          "metadata": {},
          "output_type": "execute_result"
        }
      ],
      "source": [
        "# to check the number of dimension\n",
        "TENSOR.ndim"
      ]
    },
    {
      "cell_type": "code",
      "execution_count": 19,
      "metadata": {
        "colab": {
          "base_uri": "https://localhost:8080/"
        },
        "id": "ireS7JPEVkHr",
        "outputId": "0dca3b03-801e-481e-ba84-8f5ae8525c9b"
      },
      "outputs": [
        {
          "data": {
            "text/plain": [
              "torch.Size([1, 3, 3])"
            ]
          },
          "execution_count": 19,
          "metadata": {},
          "output_type": "execute_result"
        }
      ],
      "source": [
        "# this is how to check for the shape of the tensor\n",
        "TENSOR.shape"
      ]
    },
    {
      "cell_type": "markdown",
      "metadata": {
        "id": "8FMQ2VZKUj8d"
      },
      "source": []
    },
    {
      "cell_type": "markdown",
      "metadata": {
        "id": "CGvN-pgvV9NB"
      },
      "source": [
        "**TO access elements in the dimensions this is what we DO**"
      ]
    },
    {
      "cell_type": "markdown",
      "metadata": {
        "id": "uqTa9oy2WFYo"
      },
      "source": [
        "TENSOR[0]"
      ]
    },
    {
      "cell_type": "code",
      "execution_count": 20,
      "metadata": {
        "colab": {
          "base_uri": "https://localhost:8080/"
        },
        "id": "Y215JWcFWJY_",
        "outputId": "5b2fa882-9f59-4035-80f1-cc587c37f1ec"
      },
      "outputs": [
        {
          "data": {
            "text/plain": [
              "tensor([[1, 2, 3],\n",
              "        [3, 6, 9],\n",
              "        [2, 4, 5]])"
            ]
          },
          "execution_count": 20,
          "metadata": {},
          "output_type": "execute_result"
        }
      ],
      "source": [
        "TENSOR[0]"
      ]
    },
    {
      "cell_type": "markdown",
      "metadata": {
        "id": "zoh6OrEmWikU"
      },
      "source": []
    },
    {
      "cell_type": "code",
      "execution_count": 23,
      "metadata": {
        "id": "HP2IMTvHWNrB"
      },
      "outputs": [],
      "source": [
        "# THIS MEANS THIS TENSOR IS  having one 3x3 matrix"
      ]
    },
    {
      "cell_type": "code",
      "execution_count": null,
      "metadata": {
        "id": "eZ412IX5Uni7"
      },
      "outputs": [],
      "source": []
    },
    {
      "cell_type": "markdown",
      "metadata": {
        "id": "B4vlp_1aXy_x"
      },
      "source": [
        "**CREATING RANDOM TENSORS**"
      ]
    },
    {
      "cell_type": "markdown",
      "metadata": {
        "id": "F3fsVDOUX_db"
      },
      "source": []
    },
    {
      "cell_type": "code",
      "execution_count": null,
      "metadata": {
        "id": "lqUBrRoGX8BT"
      },
      "outputs": [],
      "source": [
        "# RANDOM TENSOR IS VERY IMPORTANT BECAUSE THE WAY THE NEURAL NETWORK LEARN IS THAT THEY START WITH TENSORS FULL OF RANDOM NUMBERS AND THEN ADJUST THE NUMBERS TO BETTER REPRESENT THE DATA"
      ]
    },
    {
      "cell_type": "markdown",
      "metadata": {
        "id": "2pAiy0XJYgBM"
      },
      "source": [
        "**Start with random numbers--look at data--update random numbers--look at the data update random numbers**"
      ]
    },
    {
      "cell_type": "markdown",
      "metadata": {
        "id": "1OM-E7KFZqxk"
      },
      "source": [
        "This is how to creat random tensor of shape 3 x 4"
      ]
    },
    {
      "cell_type": "code",
      "execution_count": 29,
      "metadata": {
        "colab": {
          "base_uri": "https://localhost:8080/"
        },
        "id": "kRgaluMvY99W",
        "outputId": "3c68a8a5-bb2f-405d-ad29-cf0875c0edb3"
      },
      "outputs": [
        {
          "data": {
            "text/plain": [
              "tensor([[0.5896, 0.8819, 0.7044, 0.4439],\n",
              "        [0.2791, 0.5456, 0.7244, 0.1067],\n",
              "        [0.6308, 0.8960, 0.4392, 0.1428]])"
            ]
          },
          "execution_count": 29,
          "metadata": {},
          "output_type": "execute_result"
        }
      ],
      "source": [
        "random_tensor=torch.rand(3,4)\n",
        "random_tensor"
      ]
    },
    {
      "cell_type": "code",
      "execution_count": 24,
      "metadata": {
        "id": "ZiU9qS4VY4Ce"
      },
      "outputs": [],
      "source": [
        "# creating random tensors in pytorch size(3,4)"
      ]
    },
    {
      "cell_type": "markdown",
      "metadata": {
        "id": "UWAaalYZZ7hI"
      },
      "source": [
        "This is how to creat two 3x2 matrix in pytorch"
      ]
    },
    {
      "cell_type": "code",
      "execution_count": 30,
      "metadata": {
        "colab": {
          "base_uri": "https://localhost:8080/"
        },
        "id": "jLLM2cKGZ4Cy",
        "outputId": "343d99a6-a16d-4bab-9bdb-6ec220174bfe"
      },
      "outputs": [
        {
          "data": {
            "text/plain": [
              "tensor([[[0.5623, 0.8714, 0.1978, 0.3430],\n",
              "         [0.9679, 0.8339, 0.4537, 0.1020],\n",
              "         [0.8922, 0.0672, 0.1220, 0.2168]],\n",
              "\n",
              "        [[0.3370, 0.4456, 0.4515, 0.5186],\n",
              "         [0.2606, 0.5162, 0.9512, 0.8203],\n",
              "         [0.3448, 0.5748, 0.2234, 0.6814]]])"
            ]
          },
          "execution_count": 30,
          "metadata": {},
          "output_type": "execute_result"
        }
      ],
      "source": [
        "random_tensor=torch.rand(2,3,4)\n",
        "random_tensor"
      ]
    },
    {
      "cell_type": "code",
      "execution_count": 31,
      "metadata": {
        "colab": {
          "base_uri": "https://localhost:8080/"
        },
        "id": "gEJJBot2aHQE",
        "outputId": "a6dc1b40-fdfc-4de3-e257-5e8513110da3"
      },
      "outputs": [
        {
          "data": {
            "text/plain": [
              "3"
            ]
          },
          "execution_count": 31,
          "metadata": {},
          "output_type": "execute_result"
        }
      ],
      "source": [
        "# to check the number of dimensions\n",
        "random_tensor.ndim"
      ]
    },
    {
      "cell_type": "markdown",
      "metadata": {
        "id": "Khhk1ykhaupJ"
      },
      "source": [
        "**Creating a random tensor with similar shape to image tensor**"
      ]
    },
    {
      "cell_type": "code",
      "execution_count": 32,
      "metadata": {
        "id": "jJTfn6Dda658"
      },
      "outputs": [],
      "source": [
        "random_image_tensor=torch.rand(size=(224,224,3))# height width, color channel(R,G,B)"
      ]
    },
    {
      "cell_type": "code",
      "execution_count": 34,
      "metadata": {
        "colab": {
          "base_uri": "https://localhost:8080/"
        },
        "id": "CE4Chwm8bsL-",
        "outputId": "72bdbbe3-358c-4a07-c50a-d2ed574346b3"
      },
      "outputs": [
        {
          "data": {
            "text/plain": [
              "torch.Size([224, 224, 3])"
            ]
          },
          "execution_count": 34,
          "metadata": {},
          "output_type": "execute_result"
        }
      ],
      "source": [
        "random_image_tensor.shape"
      ]
    },
    {
      "cell_type": "code",
      "execution_count": 35,
      "metadata": {
        "colab": {
          "base_uri": "https://localhost:8080/"
        },
        "id": "KZMATYigd1lU",
        "outputId": "d1d3572b-455d-4923-abd8-0fcc5f51c71e"
      },
      "outputs": [
        {
          "data": {
            "text/plain": [
              "tensor([[0.6748, 0.0092, 0.6999, 0.4009],\n",
              "        [0.9145, 0.9625, 0.9079, 0.2420],\n",
              "        [0.8175, 0.2122, 0.8248, 0.1754]])"
            ]
          },
          "execution_count": 35,
          "metadata": {},
          "output_type": "execute_result"
        }
      ],
      "source": [
        "# we can also do this\n",
        "torch.rand(size=(3,4))"
      ]
    },
    {
      "cell_type": "markdown",
      "metadata": {
        "id": "L2_4lMjZeDYk"
      },
      "source": []
    },
    {
      "cell_type": "markdown",
      "metadata": {
        "id": "-EVBVxlOeI6e"
      },
      "source": [
        "**HOW TO CREAT  TENSORS ZEROS AND ONES**\n",
        "\n",
        "```\n",
        "# This is formatted as code\n",
        "```\n",
        "\n"
      ]
    },
    {
      "cell_type": "code",
      "execution_count": 36,
      "metadata": {
        "colab": {
          "base_uri": "https://localhost:8080/"
        },
        "id": "6ZSWv4BbeW9k",
        "outputId": "7670af88-4b5d-4201-d215-4d01d877c7e0"
      },
      "outputs": [
        {
          "data": {
            "text/plain": [
              "tensor([[0., 0., 0., 0.],\n",
              "        [0., 0., 0., 0.],\n",
              "        [0., 0., 0., 0.]])"
            ]
          },
          "execution_count": 36,
          "metadata": {},
          "output_type": "execute_result"
        }
      ],
      "source": [
        "Zeros = torch.zeros(size=(3,4))\n",
        "Zeros"
      ]
    },
    {
      "cell_type": "code",
      "execution_count": null,
      "metadata": {
        "id": "5pWJk5Fwez3H"
      },
      "outputs": [],
      "source": []
    },
    {
      "cell_type": "markdown",
      "metadata": {
        "id": "TwAyjZCYelUx"
      },
      "source": [
        "the above is how to creat tensors of zeros"
      ]
    },
    {
      "cell_type": "code",
      "execution_count": 37,
      "metadata": {
        "id": "mIlAmif7e2xS"
      },
      "outputs": [],
      "source": [
        "# to creat tensors of all ones\n",
        "ones=torch.ones(size=(3,4))"
      ]
    },
    {
      "cell_type": "markdown",
      "metadata": {
        "id": "kEDvGNGCfaoz"
      },
      "source": []
    },
    {
      "cell_type": "code",
      "execution_count": 38,
      "metadata": {
        "colab": {
          "base_uri": "https://localhost:8080/"
        },
        "id": "3OpnwFgjfC-x",
        "outputId": "7723b276-0692-4005-ef37-25a1f6a24eb2"
      },
      "outputs": [
        {
          "data": {
            "text/plain": [
              "tensor([[1., 1., 1., 1.],\n",
              "        [1., 1., 1., 1.],\n",
              "        [1., 1., 1., 1.]])"
            ]
          },
          "execution_count": 38,
          "metadata": {},
          "output_type": "execute_result"
        }
      ],
      "source": [
        "ones"
      ]
    },
    {
      "cell_type": "markdown",
      "metadata": {
        "id": "q8ikmhYAffGF"
      },
      "source": [
        "**This is how to check for the data type of the tensor**"
      ]
    },
    {
      "cell_type": "code",
      "execution_count": 39,
      "metadata": {
        "colab": {
          "base_uri": "https://localhost:8080/"
        },
        "id": "sn_p23nifI9q",
        "outputId": "ed466f13-997a-4e5a-9690-5ee3b5001f7a"
      },
      "outputs": [
        {
          "data": {
            "text/plain": [
              "torch.float32"
            ]
          },
          "execution_count": 39,
          "metadata": {},
          "output_type": "execute_result"
        }
      ],
      "source": [
        "ones.dtype"
      ]
    },
    {
      "cell_type": "markdown",
      "metadata": {
        "id": "8vCQvzsPfSs7"
      },
      "source": [
        "the code is running on cpu"
      ]
    },
    {
      "cell_type": "code",
      "execution_count": 40,
      "metadata": {
        "colab": {
          "base_uri": "https://localhost:8080/"
        },
        "id": "XkYXkp-HfMSu",
        "outputId": "8313f652-ca70-4c44-decb-dc3bc7e96da2"
      },
      "outputs": [
        {
          "data": {
            "text/plain": [
              "device(type='cpu')"
            ]
          },
          "execution_count": 40,
          "metadata": {},
          "output_type": "execute_result"
        }
      ],
      "source": [
        "ones.device"
      ]
    },
    {
      "cell_type": "markdown",
      "metadata": {
        "id": "9wdpWl8vfy5-"
      },
      "source": [
        "How to creat tensors and tensors like"
      ]
    },
    {
      "cell_type": "code",
      "execution_count": 41,
      "metadata": {
        "id": "ASOJ-0cnf4Bz"
      },
      "outputs": [],
      "source": [
        "# use torch.range()"
      ]
    },
    {
      "cell_type": "code",
      "execution_count": 47,
      "metadata": {
        "colab": {
          "base_uri": "https://localhost:8080/"
        },
        "id": "wBiKYtPrf_2b",
        "outputId": "80623a9e-4810-4f7d-fd06-cbed1294016f"
      },
      "outputs": [
        {
          "data": {
            "text/plain": [
              "tensor([ 0,  2,  4,  6,  8, 10, 12, 14, 16, 18, 20, 22, 24, 26, 28, 30, 32, 34,\n",
              "        36, 38, 40, 42, 44, 46, 48, 50, 52, 54, 56, 58, 60, 62, 64, 66, 68, 70,\n",
              "        72, 74, 76, 78, 80, 82, 84, 86, 88, 90, 92, 94, 96, 98])"
            ]
          },
          "execution_count": 47,
          "metadata": {},
          "output_type": "execute_result"
        }
      ],
      "source": [
        "one_ten=torch.arange(start=0,end=100,step=2)\n",
        "one_ten"
      ]
    },
    {
      "cell_type": "markdown",
      "metadata": {
        "id": "mosnZi4AgjZ9"
      },
      "source": [
        "**Creating tensors like**"
      ]
    },
    {
      "cell_type": "code",
      "execution_count": 53,
      "metadata": {
        "colab": {
          "base_uri": "https://localhost:8080/"
        },
        "id": "iO6zPGj_gt1Q",
        "outputId": "d533cf54-62d5-4c63-dc80-306559604977"
      },
      "outputs": [
        {
          "data": {
            "text/plain": [
              "tensor([0, 0, 0, 0, 0, 0, 0, 0, 0, 0, 0, 0, 0, 0, 0, 0, 0, 0, 0, 0, 0, 0, 0, 0,\n",
              "        0, 0, 0, 0, 0, 0, 0, 0, 0, 0, 0, 0, 0, 0, 0, 0, 0, 0, 0, 0, 0, 0, 0, 0,\n",
              "        0, 0])"
            ]
          },
          "execution_count": 53,
          "metadata": {},
          "output_type": "execute_result"
        }
      ],
      "source": [
        "#to convert the existing tensor into zeroes\n",
        "ten_zeroes=torch.zeros_like(input=one_ten)\n",
        "ten_zeroes"
      ]
    },
    {
      "cell_type": "code",
      "execution_count": 52,
      "metadata": {
        "colab": {
          "base_uri": "https://localhost:8080/"
        },
        "id": "M4Nseddch5s6",
        "outputId": "c4ae8a44-5832-41a2-bb35-32d38b29f222"
      },
      "outputs": [
        {
          "data": {
            "text/plain": [
              "tensor([1, 1, 1, 1, 1, 1, 1, 1, 1, 1, 1, 1, 1, 1, 1, 1, 1, 1, 1, 1, 1, 1, 1, 1,\n",
              "        1, 1, 1, 1, 1, 1, 1, 1, 1, 1, 1, 1, 1, 1, 1, 1, 1, 1, 1, 1, 1, 1, 1, 1,\n",
              "        1, 1])"
            ]
          },
          "execution_count": 52,
          "metadata": {},
          "output_type": "execute_result"
        }
      ],
      "source": [
        "# to creat tensors ones_like to convert the existing tensors to all ones\n",
        "ten_ones=torch.ones_like(input=one_ten)\n",
        "ten_ones"
      ]
    },
    {
      "cell_type": "markdown",
      "metadata": {
        "id": "wDc6aUEfkYyd"
      },
      "source": [
        "**TENSOR DATA TYPE**"
      ]
    },
    {
      "cell_type": "code",
      "execution_count": 55,
      "metadata": {
        "colab": {
          "base_uri": "https://localhost:8080/"
        },
        "id": "GlHBxGE2iVp4",
        "outputId": "c351adae-2479-4fcc-f590-d8d1e7acea78"
      },
      "outputs": [
        {
          "data": {
            "text/plain": [
              "tensor([3., 2., 4.])"
            ]
          },
          "execution_count": 55,
          "metadata": {},
          "output_type": "execute_result"
        }
      ],
      "source": [
        "float_32_tensor=torch.tensor([3.0,2.0,4.0],dtype=None)\n",
        "float_32_tensor"
      ]
    },
    {
      "cell_type": "code",
      "execution_count": 56,
      "metadata": {
        "colab": {
          "base_uri": "https://localhost:8080/"
        },
        "id": "YduiFWuJlJaC",
        "outputId": "1d61e0a1-d412-421f-dc03-c9ee8ac1cf8a"
      },
      "outputs": [
        {
          "data": {
            "text/plain": [
              "torch.float32"
            ]
          },
          "execution_count": 56,
          "metadata": {},
          "output_type": "execute_result"
        }
      ],
      "source": [
        "float_32_tensor.dtype"
      ]
    },
    {
      "cell_type": "code",
      "execution_count": 57,
      "metadata": {
        "colab": {
          "base_uri": "https://localhost:8080/"
        },
        "id": "Cdom4PsKlV66",
        "outputId": "51b7858e-cdf5-4060-afbe-a4013bf49f6c"
      },
      "outputs": [
        {
          "data": {
            "text/plain": [
              "tensor([3., 2., 4.], dtype=torch.float16)"
            ]
          },
          "execution_count": 57,
          "metadata": {},
          "output_type": "execute_result"
        }
      ],
      "source": [
        "# its by default float_32 but this can be changed lets take a look\n",
        "float_32_tensor=torch.tensor([3.0,2.0,4.0],dtype=torch.float16)\n",
        "float_32_tensor\n"
      ]
    },
    {
      "cell_type": "markdown",
      "metadata": {
        "id": "l0tKp_CCiZN-"
      },
      "source": [
        "***the data type thus can be easily changed***"
      ]
    },
    {
      "cell_type": "code",
      "execution_count": null,
      "metadata": {
        "id": "T25AT_4CmGVm"
      },
      "outputs": [],
      "source": []
    },
    {
      "cell_type": "markdown",
      "metadata": {
        "id": "10vaPBLUpOpV"
      },
      "source": []
    },
    {
      "cell_type": "markdown",
      "metadata": {
        "id": "KtPCVJRmnaOW"
      },
      "source": [
        "TENSOR OPERATIONS CAN ONLY WORKS IN THE FOLLOWING CATEGORIES, MUST BE OF THE SAME DTYPE,RIGHT SHAPE, AND SAME DEVICE"
      ]
    },
    {
      "cell_type": "code",
      "execution_count": 58,
      "metadata": {
        "id": "gr7pftMzpP3x"
      },
      "outputs": [],
      "source": [
        "# TO GET INFORMATION FROM A TENSOR\n",
        "# we check on shape, dtype, device as the main parts to confirm"
      ]
    }
  ],
  "metadata": {
    "colab": {
      "name": "Welcome To Colab",
      "provenance": []
    },
    "kernelspec": {
      "display_name": "Python 3",
      "name": "python3"
    }
  },
  "nbformat": 4,
  "nbformat_minor": 0
}
