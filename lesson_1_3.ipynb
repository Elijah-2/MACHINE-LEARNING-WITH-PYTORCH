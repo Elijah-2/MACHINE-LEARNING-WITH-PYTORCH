{
  "nbformat": 4,
  "nbformat_minor": 0,
  "metadata": {
    "colab": {
      "provenance": [],
      "gpuType": "T4"
    },
    "kernelspec": {
      "name": "python3",
      "display_name": "Python 3"
    },
    "language_info": {
      "name": "python"
    },
    "accelerator": "GPU"
  },
  "cells": [
    {
      "cell_type": "markdown",
      "source": [
        "**SELECTING DATA FROM TENSORS**"
      ],
      "metadata": {
        "id": "JPutrPi3z5CM"
      }
    },
    {
      "cell_type": "code",
      "source": [
        "# INDEXING WITH PYTORCH"
      ],
      "metadata": {
        "id": "OZW_n3I-z-dR"
      },
      "execution_count": 1,
      "outputs": []
    },
    {
      "cell_type": "code",
      "source": [
        "import torch"
      ],
      "metadata": {
        "id": "Lrz5zyKZ0KgE"
      },
      "execution_count": 3,
      "outputs": []
    },
    {
      "cell_type": "code",
      "source": [
        "x=torch.arange(1,10).reshape(1,3,3)\n",
        "x.shape"
      ],
      "metadata": {
        "colab": {
          "base_uri": "https://localhost:8080/"
        },
        "id": "xTJhccI50UX3",
        "outputId": "a6263c93-1aef-4fe2-863b-15ff9f869c54"
      },
      "execution_count": 4,
      "outputs": [
        {
          "output_type": "execute_result",
          "data": {
            "text/plain": [
              "torch.Size([1, 3, 3])"
            ]
          },
          "metadata": {},
          "execution_count": 4
        }
      ]
    },
    {
      "cell_type": "code",
      "source": [
        "x"
      ],
      "metadata": {
        "colab": {
          "base_uri": "https://localhost:8080/"
        },
        "id": "K2ki87TZ0hRN",
        "outputId": "5a0a10fd-23cf-4ff4-8db0-561ccc7bb563"
      },
      "execution_count": 5,
      "outputs": [
        {
          "output_type": "execute_result",
          "data": {
            "text/plain": [
              "tensor([[[1, 2, 3],\n",
              "         [4, 5, 6],\n",
              "         [7, 8, 9]]])"
            ]
          },
          "metadata": {},
          "execution_count": 5
        }
      ]
    },
    {
      "cell_type": "code",
      "source": [
        "# to get first number\n",
        "x[:,0:1,0:1]"
      ],
      "metadata": {
        "colab": {
          "base_uri": "https://localhost:8080/"
        },
        "id": "D2DzOzXI0r1s",
        "outputId": "b281c70d-faff-4d7a-9b41-05b0b86c5775"
      },
      "execution_count": 8,
      "outputs": [
        {
          "output_type": "execute_result",
          "data": {
            "text/plain": [
              "tensor([[[1]]])"
            ]
          },
          "metadata": {},
          "execution_count": 8
        }
      ]
    },
    {
      "cell_type": "code",
      "source": [
        "#how to access 5 in the tensor\n",
        "x[:,1:2,1:2]"
      ],
      "metadata": {
        "colab": {
          "base_uri": "https://localhost:8080/"
        },
        "id": "C9Qqfrm607hL",
        "outputId": "37283e25-3505-4956-e89b-9acf30a9f6fb"
      },
      "execution_count": 9,
      "outputs": [
        {
          "output_type": "execute_result",
          "data": {
            "text/plain": [
              "tensor([[[5]]])"
            ]
          },
          "metadata": {},
          "execution_count": 9
        }
      ]
    },
    {
      "cell_type": "code",
      "source": [
        "# to access 9 in the tensor\n",
        "x[:,2:,2:]"
      ],
      "metadata": {
        "colab": {
          "base_uri": "https://localhost:8080/"
        },
        "id": "Op1e9bET11Rq",
        "outputId": "b616e378-c27d-457f-8e4e-4e4cccbf8ac1"
      },
      "execution_count": 10,
      "outputs": [
        {
          "output_type": "execute_result",
          "data": {
            "text/plain": [
              "tensor([[[9]]])"
            ]
          },
          "metadata": {},
          "execution_count": 10
        }
      ]
    },
    {
      "cell_type": "code",
      "source": [
        "#lets index middle bracket middle dimension(dim=1)"
      ],
      "metadata": {
        "id": "ZXTsW7SY2N0O"
      },
      "execution_count": 11,
      "outputs": []
    },
    {
      "cell_type": "code",
      "source": [
        "x[0][0]"
      ],
      "metadata": {
        "colab": {
          "base_uri": "https://localhost:8080/"
        },
        "id": "4wnI-Erz3HI7",
        "outputId": "43c1830d-082b-477f-d271-10c09a4349e5"
      },
      "execution_count": 15,
      "outputs": [
        {
          "output_type": "execute_result",
          "data": {
            "text/plain": [
              "tensor([1, 2, 3])"
            ]
          },
          "metadata": {},
          "execution_count": 15
        }
      ]
    },
    {
      "cell_type": "markdown",
      "source": [
        "alternatively"
      ],
      "metadata": {
        "id": "DQkjhsKo3EBn"
      }
    },
    {
      "cell_type": "code",
      "source": [
        "x[0,0]"
      ],
      "metadata": {
        "colab": {
          "base_uri": "https://localhost:8080/"
        },
        "id": "rUixO6YP2To2",
        "outputId": "3ce28bbe-2202-4979-87ba-e3edde98ce01"
      },
      "execution_count": 12,
      "outputs": [
        {
          "output_type": "execute_result",
          "data": {
            "text/plain": [
              "tensor([1, 2, 3])"
            ]
          },
          "metadata": {},
          "execution_count": 12
        }
      ]
    },
    {
      "cell_type": "code",
      "source": [
        "#lets index on the most inner bracket(last dimension)\n"
      ],
      "metadata": {
        "id": "_L4mJv792WD5"
      },
      "execution_count": 13,
      "outputs": []
    },
    {
      "cell_type": "code",
      "source": [
        "x[0][0][0]"
      ],
      "metadata": {
        "colab": {
          "base_uri": "https://localhost:8080/"
        },
        "id": "Ig86EYKs23L_",
        "outputId": "63fa795c-81db-431a-c6dc-3f811b09973b"
      },
      "execution_count": 14,
      "outputs": [
        {
          "output_type": "execute_result",
          "data": {
            "text/plain": [
              "tensor(1)"
            ]
          },
          "metadata": {},
          "execution_count": 14
        }
      ]
    },
    {
      "cell_type": "code",
      "source": [
        "# lets try\n",
        "x[0][1][1]"
      ],
      "metadata": {
        "colab": {
          "base_uri": "https://localhost:8080/"
        },
        "id": "XspNkHTl2_x7",
        "outputId": "cc79204d-7cc1-4872-d05a-6a52d275d6b0"
      },
      "execution_count": 17,
      "outputs": [
        {
          "output_type": "execute_result",
          "data": {
            "text/plain": [
              "tensor(5)"
            ]
          },
          "metadata": {},
          "execution_count": 17
        }
      ]
    },
    {
      "cell_type": "code",
      "source": [
        "# how to get number 9\n",
        "x[0][2][2]"
      ],
      "metadata": {
        "colab": {
          "base_uri": "https://localhost:8080/"
        },
        "id": "fybb2WFJ3qTP",
        "outputId": "93b17796-519c-43a8-fb91-d3e91ac6a0b9"
      },
      "execution_count": 18,
      "outputs": [
        {
          "output_type": "execute_result",
          "data": {
            "text/plain": [
              "tensor(9)"
            ]
          },
          "metadata": {},
          "execution_count": 18
        }
      ]
    },
    {
      "cell_type": "code",
      "source": [
        "# Get all values of 0th and 6th dimensions but only index one and two"
      ],
      "metadata": {
        "id": "eQAW5qN_4Ckd"
      },
      "execution_count": 19,
      "outputs": []
    },
    {
      "cell_type": "code",
      "source": [
        "x[:,:,1]"
      ],
      "metadata": {
        "colab": {
          "base_uri": "https://localhost:8080/"
        },
        "id": "Kqt7S3JU4kCt",
        "outputId": "d557d858-0999-4ceb-a87a-264de279b38e"
      },
      "execution_count": 23,
      "outputs": [
        {
          "output_type": "execute_result",
          "data": {
            "text/plain": [
              "tensor([[2, 5, 8]])"
            ]
          },
          "metadata": {},
          "execution_count": 23
        }
      ]
    },
    {
      "cell_type": "code",
      "source": [
        "# get all values of the 0 th dimension but only the 1 index value of 1st and 2nd dimension"
      ],
      "metadata": {
        "id": "JqYRMbE14nsd"
      },
      "execution_count": 24,
      "outputs": []
    },
    {
      "cell_type": "code",
      "source": [
        "x[:,1,1]"
      ],
      "metadata": {
        "colab": {
          "base_uri": "https://localhost:8080/"
        },
        "id": "ERqjmbIh5Uwa",
        "outputId": "4ab0f997-2d1b-473d-e9cd-04a3d2560a79"
      },
      "execution_count": 25,
      "outputs": [
        {
          "output_type": "execute_result",
          "data": {
            "text/plain": [
              "tensor([5])"
            ]
          },
          "metadata": {},
          "execution_count": 25
        }
      ]
    },
    {
      "cell_type": "code",
      "source": [
        "#Get index 0 of the 0 th and 1st dimension and all values of second dimensions"
      ],
      "metadata": {
        "id": "Ul0Ly6gO5Z9G"
      },
      "execution_count": 26,
      "outputs": []
    },
    {
      "cell_type": "code",
      "source": [
        "x[0,0,:]"
      ],
      "metadata": {
        "colab": {
          "base_uri": "https://localhost:8080/"
        },
        "id": "p3ov4t_c52RU",
        "outputId": "7e15efac-0168-44c7-850b-08586055eb8e"
      },
      "execution_count": 27,
      "outputs": [
        {
          "output_type": "execute_result",
          "data": {
            "text/plain": [
              "tensor([1, 2, 3])"
            ]
          },
          "metadata": {},
          "execution_count": 27
        }
      ]
    },
    {
      "cell_type": "code",
      "source": [
        "x"
      ],
      "metadata": {
        "colab": {
          "base_uri": "https://localhost:8080/"
        },
        "id": "BeMXqCAY6AmE",
        "outputId": "61d243be-8f22-49de-dcb1-7233eba527f3"
      },
      "execution_count": 28,
      "outputs": [
        {
          "output_type": "execute_result",
          "data": {
            "text/plain": [
              "tensor([[[1, 2, 3],\n",
              "         [4, 5, 6],\n",
              "         [7, 8, 9]]])"
            ]
          },
          "metadata": {},
          "execution_count": 28
        }
      ]
    },
    {
      "cell_type": "code",
      "source": [
        "# index on x to return 9\n",
        "x[0,2,2]"
      ],
      "metadata": {
        "colab": {
          "base_uri": "https://localhost:8080/"
        },
        "id": "lsjwQ3vv6Wz-",
        "outputId": "9ae876c7-cd99-40f7-a623-66bddd7626e0"
      },
      "execution_count": 29,
      "outputs": [
        {
          "output_type": "execute_result",
          "data": {
            "text/plain": [
              "tensor(9)"
            ]
          },
          "metadata": {},
          "execution_count": 29
        }
      ]
    },
    {
      "cell_type": "code",
      "source": [
        "# index on x to return 3,6,9\n",
        "x[0,:,2]"
      ],
      "metadata": {
        "colab": {
          "base_uri": "https://localhost:8080/"
        },
        "id": "awGG3hpU6iht",
        "outputId": "b33a5351-ea69-4336-f78f-78842e7e97b6"
      },
      "execution_count": 30,
      "outputs": [
        {
          "output_type": "execute_result",
          "data": {
            "text/plain": [
              "tensor([3, 6, 9])"
            ]
          },
          "metadata": {},
          "execution_count": 30
        }
      ]
    },
    {
      "cell_type": "markdown",
      "source": [
        "**PYTORCH TENSORS AND NUMPY**\n",
        "NUMPY IS A POPULAR SCIENTIFIC PYTHON NUMERICAL COMPUTING LIBRARY, AND BECAUSE OF THIS ,PYTORCH HAS FUNCTIONALITY TO INTERACT WITH IT\n",
        "**Data in numpy, want in pytorch tensor->torch.from_numpy(ndarray)**\n",
        "**pytorch tensor->numpy->torch.Tensor.numpy()"
      ],
      "metadata": {
        "id": "-EPKG-lE7Q_C"
      }
    },
    {
      "cell_type": "code",
      "source": [
        "# numpy array to tensor\n",
        "import torch\n",
        "import numpy as np"
      ],
      "metadata": {
        "id": "jsySqFIX7XDG"
      },
      "execution_count": 31,
      "outputs": []
    },
    {
      "cell_type": "code",
      "source": [
        "array=np.arange(1.0,8.0)"
      ],
      "metadata": {
        "id": "fmFBdWyp85xZ"
      },
      "execution_count": 32,
      "outputs": []
    },
    {
      "cell_type": "code",
      "source": [
        "tensor=torch.from_numpy(array.astype(np.float32))\n"
      ],
      "metadata": {
        "id": "DWqE1Gx_9JOT"
      },
      "execution_count": 38,
      "outputs": []
    },
    {
      "cell_type": "code",
      "source": [
        "array,tensor.dtype"
      ],
      "metadata": {
        "colab": {
          "base_uri": "https://localhost:8080/"
        },
        "id": "VbSlyUBy9Q4p",
        "outputId": "e10d05d3-a635-457e-faf9-e4b2ac29c4be"
      },
      "execution_count": 40,
      "outputs": [
        {
          "output_type": "execute_result",
          "data": {
            "text/plain": [
              "(array([1., 2., 3., 4., 5., 6., 7.]), torch.float32)"
            ]
          },
          "metadata": {},
          "execution_count": 40
        }
      ]
    },
    {
      "cell_type": "code",
      "source": [
        "# when converting from numpy->pytorch,pytorch reflects numpy's default datatype of float64,unless specified otherwise"
      ],
      "metadata": {
        "id": "qQWVjWjU9TPz"
      },
      "execution_count": 35,
      "outputs": []
    },
    {
      "cell_type": "code",
      "source": [
        "# change value of array, what will this do to the tensor"
      ],
      "metadata": {
        "id": "XAVri17I-NTX"
      },
      "execution_count": 41,
      "outputs": []
    },
    {
      "cell_type": "code",
      "source": [
        "array=array +1"
      ],
      "metadata": {
        "id": "Ebnq-N6w-0hz"
      },
      "execution_count": 42,
      "outputs": []
    },
    {
      "cell_type": "code",
      "source": [
        "array,tensor"
      ],
      "metadata": {
        "colab": {
          "base_uri": "https://localhost:8080/"
        },
        "id": "lE9Ph85-_Sz9",
        "outputId": "2822a659-0a4d-4b20-f3a3-ee7aa6a4e504"
      },
      "execution_count": 43,
      "outputs": [
        {
          "output_type": "execute_result",
          "data": {
            "text/plain": [
              "(array([2., 3., 4., 5., 6., 7., 8.]), tensor([1., 2., 3., 4., 5., 6., 7.]))"
            ]
          },
          "metadata": {},
          "execution_count": 43
        }
      ]
    },
    {
      "cell_type": "code",
      "source": [
        "#but tensor value is not changed"
      ],
      "metadata": {
        "id": "WQGa743V_VXY"
      },
      "execution_count": null,
      "outputs": []
    },
    {
      "cell_type": "code",
      "source": [
        "#how to convert from tensor to numpy array"
      ],
      "metadata": {
        "id": "B1DiIoRP_-vZ"
      },
      "execution_count": 44,
      "outputs": []
    },
    {
      "cell_type": "code",
      "source": [
        "tensor=torch.ones(7)"
      ],
      "metadata": {
        "id": "McwExiBkAEmm"
      },
      "execution_count": 45,
      "outputs": []
    },
    {
      "cell_type": "code",
      "source": [
        "numpy_tensor=tensor.numpy()"
      ],
      "metadata": {
        "id": "vrZbP8QJALB7"
      },
      "execution_count": 46,
      "outputs": []
    },
    {
      "cell_type": "code",
      "source": [
        "tensor,numpy_tensor"
      ],
      "metadata": {
        "colab": {
          "base_uri": "https://localhost:8080/"
        },
        "id": "cHpAlAJ_AWz1",
        "outputId": "f0769284-3855-46c1-c881-d408295b7218"
      },
      "execution_count": 48,
      "outputs": [
        {
          "output_type": "execute_result",
          "data": {
            "text/plain": [
              "(tensor([1., 1., 1., 1., 1., 1., 1.]),\n",
              " array([1., 1., 1., 1., 1., 1., 1.], dtype=float32))"
            ]
          },
          "metadata": {},
          "execution_count": 48
        }
      ]
    },
    {
      "cell_type": "code",
      "source": [
        "# change tensor what happens to numpy"
      ],
      "metadata": {
        "id": "BrZHoQHRAbTX"
      },
      "execution_count": 49,
      "outputs": []
    },
    {
      "cell_type": "code",
      "source": [
        "tensor=tensor+1\n",
        "numpy_tensor,tensor"
      ],
      "metadata": {
        "colab": {
          "base_uri": "https://localhost:8080/"
        },
        "id": "lJ--O1fSApMe",
        "outputId": "6f2f58e0-2e46-41fa-a029-bd93d1f6d4c8"
      },
      "execution_count": 50,
      "outputs": [
        {
          "output_type": "execute_result",
          "data": {
            "text/plain": [
              "(array([1., 1., 1., 1., 1., 1., 1.], dtype=float32),\n",
              " tensor([2., 2., 2., 2., 2., 2., 2.]))"
            ]
          },
          "metadata": {},
          "execution_count": 50
        }
      ]
    },
    {
      "cell_type": "code",
      "source": [
        "# this doenot affect array"
      ],
      "metadata": {
        "id": "8w8wK4I4AyM4"
      },
      "execution_count": 51,
      "outputs": []
    },
    {
      "cell_type": "markdown",
      "source": [
        "**PYTORCH REPRODUCIBILITY**"
      ],
      "metadata": {
        "id": "lmhK1ZHcA9rY"
      }
    },
    {
      "cell_type": "markdown",
      "source": [
        "**trying to take random out of random** in short nueral networks \"start with random numbers->tensor operations->update random numbers and try to make the better representation of data**"
      ],
      "metadata": {
        "id": "fvbF4T8hBH7U"
      }
    },
    {
      "cell_type": "code",
      "source": [
        "# random seed flavour randomness"
      ],
      "metadata": {
        "id": "DENgpxoOA53S"
      },
      "execution_count": 52,
      "outputs": []
    },
    {
      "cell_type": "code",
      "source": [
        "#creat two random tensors\n"
      ],
      "metadata": {
        "id": "8M1500GdB7jJ"
      },
      "execution_count": null,
      "outputs": []
    },
    {
      "cell_type": "code",
      "source": [
        "random_tensor_A=torch.rand(3,4)\n",
        "random_tensor_B=torch.rand(3,4)\n",
        "print(random_tensor_A)\n",
        "print(random_tensor_B)"
      ],
      "metadata": {
        "colab": {
          "base_uri": "https://localhost:8080/"
        },
        "id": "vCTfrHg_CD9D",
        "outputId": "30e324db-4c4e-4b11-d1b8-27b07c8920d3"
      },
      "execution_count": 53,
      "outputs": [
        {
          "output_type": "stream",
          "name": "stdout",
          "text": [
            "tensor([[0.3422, 0.3769, 0.0164, 0.3278],\n",
            "        [0.5549, 0.2811, 0.7384, 0.3289],\n",
            "        [0.0421, 0.5770, 0.0595, 0.4415]])\n",
            "tensor([[0.9090, 0.6593, 0.4031, 0.6461],\n",
            "        [0.1905, 0.6153, 0.1026, 0.7562],\n",
            "        [0.6018, 0.9181, 0.1500, 0.0713]])\n"
          ]
        }
      ]
    },
    {
      "cell_type": "code",
      "source": [
        "#lets make some random but reproducible seed"
      ],
      "metadata": {
        "id": "4fn6c2jJCaAR"
      },
      "execution_count": 54,
      "outputs": []
    },
    {
      "cell_type": "code",
      "source": [
        "# set random seed"
      ],
      "metadata": {
        "id": "_zhiQoCgC1WD"
      },
      "execution_count": 55,
      "outputs": []
    },
    {
      "cell_type": "code",
      "source": [
        "RANDOM_SEED=42"
      ],
      "metadata": {
        "id": "vZhOv-ISC5kc"
      },
      "execution_count": 56,
      "outputs": []
    },
    {
      "cell_type": "code",
      "source": [
        "torch.manual_seed(RANDOM_SEED)"
      ],
      "metadata": {
        "colab": {
          "base_uri": "https://localhost:8080/"
        },
        "id": "DsVsu2ImC9HT",
        "outputId": "42294ee2-52cd-487e-bfc2-5338441477ca"
      },
      "execution_count": 61,
      "outputs": [
        {
          "output_type": "execute_result",
          "data": {
            "text/plain": [
              "<torch._C.Generator at 0x7f47f4b52710>"
            ]
          },
          "metadata": {},
          "execution_count": 61
        }
      ]
    },
    {
      "cell_type": "code",
      "source": [
        "random_tensor_C=torch.rand(3,4)\n",
        "torch.manual_seed(RANDOM_SEED)\n",
        "random_tensor_D=torch.rand(3,4)"
      ],
      "metadata": {
        "id": "ksp3xOmjDO01"
      },
      "execution_count": 62,
      "outputs": []
    },
    {
      "cell_type": "code",
      "source": [
        "print(random_tensor_C)\n",
        "\n",
        "print(random_tensor_D)"
      ],
      "metadata": {
        "colab": {
          "base_uri": "https://localhost:8080/"
        },
        "id": "-_vxOIDHDguj",
        "outputId": "0a26e8be-2360-4b2c-fdf8-5f81dff6771c"
      },
      "execution_count": 63,
      "outputs": [
        {
          "output_type": "stream",
          "name": "stdout",
          "text": [
            "tensor([[0.8823, 0.9150, 0.3829, 0.9593],\n",
            "        [0.3904, 0.6009, 0.2566, 0.7936],\n",
            "        [0.9408, 0.1332, 0.9346, 0.5936]])\n",
            "tensor([[0.8823, 0.9150, 0.3829, 0.9593],\n",
            "        [0.3904, 0.6009, 0.2566, 0.7936],\n",
            "        [0.9408, 0.1332, 0.9346, 0.5936]])\n"
          ]
        }
      ]
    },
    {
      "cell_type": "code",
      "source": [
        "# THERE IS NOW FLAVOUR IN RANDOMNESS"
      ],
      "metadata": {
        "id": "3MRxqsRxDmGv"
      },
      "execution_count": 64,
      "outputs": []
    },
    {
      "cell_type": "code",
      "source": [
        "# RUNNING TENSORS AND PYTORCH OBJECTS ON THE GPUS( AND MAKING FASTER COMPUTATIONS)"
      ],
      "metadata": {
        "id": "euyK-RhaD_Jf"
      },
      "execution_count": 65,
      "outputs": []
    },
    {
      "cell_type": "markdown",
      "source": [
        "GPUs=faster computation on numbers"
      ],
      "metadata": {
        "id": "fnicBd9SE87T"
      }
    },
    {
      "cell_type": "code",
      "source": [
        "### 1. getting a GPU"
      ],
      "metadata": {
        "id": "cdi5E37RFHDK"
      },
      "execution_count": 66,
      "outputs": []
    },
    {
      "cell_type": "markdown",
      "source": [
        "**Easiest**=use google colab for a free GPU (options to upgrade as well)\n",
        "\n",
        "**use your own GPU**=takes a little bit of set up and requires the investment of purchasing A GPU THERE IS LOTS OF OPTIONS\n",
        "\n",
        "**Use cloud computing**=GCP,AWS,AZURE,these services allow you to rent computers on the cloud and access them"
      ],
      "metadata": {
        "id": "SJiFvCg-FVUm"
      }
    },
    {
      "cell_type": "code",
      "source": [
        "# for the above option 2 and 3 pytorch+GPU drivers (CUDA) takes a little bit of setting up,to do this refer to pytorch setup documentation"
      ],
      "metadata": {
        "id": "zIridLiPFMRd"
      },
      "execution_count": 67,
      "outputs": []
    },
    {
      "cell_type": "code",
      "source": [
        "!nvidia-smi"
      ],
      "metadata": {
        "colab": {
          "base_uri": "https://localhost:8080/"
        },
        "id": "p84WFDNoHH3L",
        "outputId": "4806da00-6fd0-45a2-e6c6-5113c8c25b63"
      },
      "execution_count": 1,
      "outputs": [
        {
          "output_type": "stream",
          "name": "stdout",
          "text": [
            "Fri Jan 17 07:16:52 2025       \n",
            "+---------------------------------------------------------------------------------------+\n",
            "| NVIDIA-SMI 535.104.05             Driver Version: 535.104.05   CUDA Version: 12.2     |\n",
            "|-----------------------------------------+----------------------+----------------------+\n",
            "| GPU  Name                 Persistence-M | Bus-Id        Disp.A | Volatile Uncorr. ECC |\n",
            "| Fan  Temp   Perf          Pwr:Usage/Cap |         Memory-Usage | GPU-Util  Compute M. |\n",
            "|                                         |                      |               MIG M. |\n",
            "|=========================================+======================+======================|\n",
            "|   0  Tesla T4                       Off | 00000000:00:04.0 Off |                    0 |\n",
            "| N/A   50C    P8              12W /  70W |      0MiB / 15360MiB |      0%      Default |\n",
            "|                                         |                      |                  N/A |\n",
            "+-----------------------------------------+----------------------+----------------------+\n",
            "                                                                                         \n",
            "+---------------------------------------------------------------------------------------+\n",
            "| Processes:                                                                            |\n",
            "|  GPU   GI   CI        PID   Type   Process name                            GPU Memory |\n",
            "|        ID   ID                                                             Usage      |\n",
            "|=======================================================================================|\n",
            "|  No running processes found                                                           |\n",
            "+---------------------------------------------------------------------------------------+\n"
          ]
        }
      ]
    },
    {
      "cell_type": "code",
      "source": [
        "# check for GPU access with pytorch\n",
        "import torch"
      ],
      "metadata": {
        "id": "uloFJ3n0He4h"
      },
      "execution_count": 4,
      "outputs": []
    },
    {
      "cell_type": "code",
      "source": [
        "torch.cuda.is_available()"
      ],
      "metadata": {
        "colab": {
          "base_uri": "https://localhost:8080/"
        },
        "id": "OLAM_7sYIAhx",
        "outputId": "90505341-e698-45a8-eb8c-4183493fad9a"
      },
      "execution_count": 6,
      "outputs": [
        {
          "output_type": "execute_result",
          "data": {
            "text/plain": [
              "True"
            ]
          },
          "metadata": {},
          "execution_count": 6
        }
      ]
    },
    {
      "cell_type": "code",
      "source": [
        "# set_up device agnostic code"
      ],
      "metadata": {
        "id": "BQteSXjDIWzs"
      },
      "execution_count": 7,
      "outputs": []
    },
    {
      "cell_type": "code",
      "source": [
        "device=\"cuda\" if torch.cuda.is_available() else \"cpu\""
      ],
      "metadata": {
        "id": "g44Hr7eKIola"
      },
      "execution_count": 8,
      "outputs": []
    },
    {
      "cell_type": "code",
      "source": [
        "device"
      ],
      "metadata": {
        "colab": {
          "base_uri": "https://localhost:8080/",
          "height": 35
        },
        "id": "fI3dh_PbI9cP",
        "outputId": "01fe18ee-4a5e-431a-c21d-8c371f4673b7"
      },
      "execution_count": 9,
      "outputs": [
        {
          "output_type": "execute_result",
          "data": {
            "text/plain": [
              "'cuda'"
            ],
            "application/vnd.google.colaboratory.intrinsic+json": {
              "type": "string"
            }
          },
          "metadata": {},
          "execution_count": 9
        }
      ]
    },
    {
      "cell_type": "code",
      "source": [
        "#count number of devices"
      ],
      "metadata": {
        "id": "FbevCRPaI_B4"
      },
      "execution_count": 10,
      "outputs": []
    },
    {
      "cell_type": "code",
      "source": [
        "torch.cuda.device_count()"
      ],
      "metadata": {
        "colab": {
          "base_uri": "https://localhost:8080/"
        },
        "id": "qYLk0bI3JDTE",
        "outputId": "b9e0037f-fae1-4beb-fb02-b9a3ee55621b"
      },
      "execution_count": 11,
      "outputs": [
        {
          "output_type": "execute_result",
          "data": {
            "text/plain": [
              "1"
            ]
          },
          "metadata": {},
          "execution_count": 11
        }
      ]
    },
    {
      "cell_type": "code",
      "source": [],
      "metadata": {
        "id": "2VCxlP4iJLFe"
      },
      "execution_count": null,
      "outputs": []
    },
    {
      "cell_type": "markdown",
      "source": [
        "FOR pytorch its capable of running compute on GPU or CPU , its a best practice to set up device agnostic code"
      ],
      "metadata": {
        "id": "iGkMY_TbKbu0"
      }
    },
    {
      "cell_type": "code",
      "source": [],
      "metadata": {
        "id": "YLkGZCzrKu0S"
      },
      "execution_count": null,
      "outputs": []
    }
  ]
}